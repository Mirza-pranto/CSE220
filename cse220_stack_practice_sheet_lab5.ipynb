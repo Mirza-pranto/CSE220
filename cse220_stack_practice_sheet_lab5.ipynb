{
  "nbformat": 4,
  "nbformat_minor": 0,
  "metadata": {
    "colab": {
      "provenance": []
    },
    "kernelspec": {
      "name": "python3",
      "display_name": "Python 3"
    },
    "language_info": {
      "name": "python"
    }
  },
  "cells": [
    {
      "cell_type": "code",
      "source": [
        "#stack using array\n",
        "import numpy as np\n",
        "class Stack:\n",
        "    def __init__(self,size):\n",
        "        self.a=np.zeros(size)\n",
        "        self.top=-1\n",
        "        self.size=size\n",
        "    def push(self,elem):\n",
        "        if self.top==self.size-1:\n",
        "            return \"overflow\"\n",
        "        else:\n",
        "            self.top+=1\n",
        "            self.a[self.top]=elem\n",
        "\n",
        "    def pop(self):\n",
        "        if self.top==-1:\n",
        "            return \"Underflow\"\n",
        "\n",
        "        else:\n",
        "            temp=self.a[self.top]\n",
        "            self.a[self.top]=0\n",
        "            self.top-=1\n",
        "            return temp\n",
        "\n",
        "    def peek(self):\n",
        "        if self.top==-1:\n",
        "            return \"Underflow\"\n",
        "\n",
        "        else:\n",
        "            temp=self.a[self.top]\n",
        "\n",
        "            return temp\n",
        "\n",
        "\n",
        "st=Stack(5)\n",
        "for i in range(5):\n",
        "    st.push(i)\n",
        "st.push(6)\n",
        "for i in range(6):\n",
        "    print(st.pop())\n",
        "\n",
        "\n",
        "\n",
        "\n"
      ],
      "metadata": {
        "colab": {
          "base_uri": "https://localhost:8080/"
        },
        "id": "ez2Ctg8ngbN8",
        "outputId": "761275c0-c184-4f88-ae3a-1144cdda234e"
      },
      "execution_count": null,
      "outputs": [
        {
          "output_type": "stream",
          "name": "stdout",
          "text": [
            "4.0\n",
            "3.0\n",
            "2.0\n",
            "1.0\n",
            "0.0\n",
            "Underflow\n"
          ]
        }
      ]
    },
    {
      "cell_type": "code",
      "execution_count": null,
      "metadata": {
        "colab": {
          "base_uri": "https://localhost:8080/"
        },
        "id": "s5jUBEcwL2uC",
        "outputId": "1950e013-96ad-4184-d7f3-5e13f9c93d14"
      },
      "outputs": [
        {
          "output_type": "stream",
          "name": "stdout",
          "text": [
            "011esc\n",
            "False\n"
          ]
        }
      ],
      "source": [
        "class Node:\n",
        "    def __init__(self,elem,next=None):\n",
        "        self.elem=elem\n",
        "        self.next=next\n",
        "class Stack:\n",
        "    def __init__(self):\n",
        "        self.top=None\n",
        "\n",
        "    def push (self,elem):\n",
        "        x=Node(elem)\n",
        "        if self.top==None:\n",
        "            self.top=x\n",
        "\n",
        "        else:\n",
        "            x.next=self.top\n",
        "            self.top=x\n",
        "\n",
        "    def pop(self):\n",
        "        if self.top==None:\n",
        "            return \"Overflow\"\n",
        "        else:\n",
        "            temp=self.top\n",
        "            self.top= self.top.next\n",
        "            temp.next=None\n",
        "            return temp.elem\n",
        "\n",
        "    def peek(self):\n",
        "        if self.top == None:\n",
        "            return \"inflow\"\n",
        "\n",
        "        else:\n",
        "            return self.top.elem\n",
        "\n",
        "\n",
        "def string_reverser(s):\n",
        "    stack=Stack()\n",
        "    for i in s:\n",
        "        stack.push(i)\n",
        "    ns=\"\"\n",
        "    for i in range(len(s)):\n",
        "        ns+=stack.pop()\n",
        "    return ns\n",
        "\n",
        "def palindrome_checker(s):\n",
        "    stack=Stack()\n",
        "    for i in s:\n",
        "        stack.push(i)\n",
        "    for i in s:\n",
        "        x=stack.pop()\n",
        "        if x!=i :\n",
        "            return False\n",
        "    return True\n",
        "\n",
        "print(string_reverser(\"cse110\"))\n",
        "print(palindrome_checker(\"raceca\"))\n"
      ]
    }
  ]
}