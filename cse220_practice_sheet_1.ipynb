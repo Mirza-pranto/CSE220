{
  "nbformat": 4,
  "nbformat_minor": 0,
  "metadata": {
    "colab": {
      "provenance": []
    },
    "kernelspec": {
      "name": "python3",
      "display_name": "Python 3"
    },
    "language_info": {
      "name": "python"
    }
  },
  "cells": [
    {
      "cell_type": "code",
      "execution_count": null,
      "metadata": {
        "colab": {
          "base_uri": "https://localhost:8080/"
        },
        "id": "OUt4ndnufxCI",
        "outputId": "fbcff32d-d89b-4c63-ea02-5bfdc47d1838"
      },
      "outputs": [
        {
          "output_type": "stream",
          "name": "stdout",
          "text": [
            "5\n"
          ]
        }
      ],
      "source": [
        "#1uestion 1\n",
        "import numpy as np\n",
        "def not_in_fun(arr,elem):\n",
        "  for i in arr:\n",
        "    if i==elem:\n",
        "      return False\n",
        "  return True\n",
        "\n",
        "ribon1=np.array([1,2,3,4,5])\n",
        "ribon2=np.array([1,2,3])\n",
        "\n",
        "x=len((ribon1))\n",
        "y=len((ribon2))\n",
        "\n",
        "newribon= np.zeros(x+y)\n",
        "\n",
        "count=0\n",
        "for i in range(x):\n",
        "\n",
        "  if not_in_fun(newribon,ribon1[i]):\n",
        "    newribon[count]=ribon1[i]\n",
        "    count+=1\n",
        "for i in range(y):\n",
        "  if  not_in_fun(newribon,ribon2[i]):\n",
        "    newribon[count]=ribon2[i]\n",
        "    count+=1\n",
        "\n",
        "print(count)"
      ]
    },
    {
      "cell_type": "code",
      "source": [
        "# Question 2\n",
        "import numpy as np\n",
        "arr=[-5, 7, -3, -4, 9, 10, -1, 11]\n",
        "arr=np.array(arr)\n",
        "count=0\n",
        "x=len(arr)\n",
        "for i in range(len(arr)):\n",
        " if x<=count:\n",
        "     break\n",
        "\n",
        " elif arr[i]>0:\n",
        "  count+=1\n",
        "\n",
        " else:\n",
        "    while arr[i]< 0 and count!=x:\n",
        "      temp=arr[i]\n",
        "      for j in range(i,len(arr)-1):\n",
        "        arr[j]=arr[j+1]\n",
        "      arr[len(arr)-1]=temp\n",
        "      count+=1\n",
        "      x-=1\n",
        "\n",
        "print(arr)"
      ],
      "metadata": {
        "colab": {
          "base_uri": "https://localhost:8080/"
        },
        "id": "4i_eeZ1DjKLD",
        "outputId": "187b51a0-0404-455f-9c33-cd759f7cd300"
      },
      "execution_count": null,
      "outputs": [
        {
          "output_type": "stream",
          "name": "stdout",
          "text": [
            "[ 7  9 10 11 -5 -3 -4 -1]\n"
          ]
        }
      ]
    },
    {
      "cell_type": "code",
      "source": [
        "#Question 4\n",
        "import numpy as np\n",
        "arr=[1,1,1,1,1]\n",
        "X=1\n",
        "arr=np.array(arr)\n",
        "count=0\n",
        "for i in arr:\n",
        "  if i==X:\n",
        "    count+=1\n",
        "\n",
        "print(count)\n"
      ],
      "metadata": {
        "colab": {
          "base_uri": "https://localhost:8080/"
        },
        "id": "GFBACT51479M",
        "outputId": "554b016a-8ce7-4b45-cdc6-57342e58fe8d"
      },
      "execution_count": null,
      "outputs": [
        {
          "output_type": "stream",
          "name": "stdout",
          "text": [
            "5\n"
          ]
        }
      ]
    },
    {
      "cell_type": "code",
      "source": [
        "#question 5\n",
        "arr= [7, 10, 4, 20, 15]\n",
        "\n",
        "x=4\n",
        "arr=sort_assending(arr)\n",
        "print(arr[x-1])\n",
        "\n"
      ],
      "metadata": {
        "colab": {
          "base_uri": "https://localhost:8080/"
        },
        "id": "j1QIioyW9bnb",
        "outputId": "f03b0cbd-6753-4dd2-db48-1888d15e63bf"
      },
      "execution_count": null,
      "outputs": [
        {
          "output_type": "stream",
          "name": "stdout",
          "text": [
            "15\n"
          ]
        }
      ]
    },
    {
      "cell_type": "code",
      "source": [
        "#question no 6\n",
        "def sort_assending(arr):\n",
        "  for i in range(len(arr)):\n",
        "    for j in range(len(arr)-1):\n",
        "      if arr[j]>arr[j+1]:\n",
        "        arr[j],arr[j+1]=arr[j+1],arr[j]\n",
        "  return arr\n",
        "\n",
        "arr= [0, 2, 1, 2, 0]\n",
        "print(sort_assending(arr ))\n"
      ],
      "metadata": {
        "colab": {
          "base_uri": "https://localhost:8080/"
        },
        "id": "Pp3rcYnn759b",
        "outputId": "d9ead914-7026-43ef-fda6-924b12437e8d"
      },
      "execution_count": null,
      "outputs": [
        {
          "output_type": "stream",
          "name": "stdout",
          "text": [
            "[0, 0, 1, 2, 2]\n"
          ]
        }
      ]
    },
    {
      "cell_type": "code",
      "source": [
        "#problem 7\n",
        "arr= [7,4,0,9]\n",
        "arr=np.array(arr)\n",
        "height=0\n",
        "if arr[0]<arr[len(arr)-1] :\n",
        "  height=arr[0]\n",
        "else:\n",
        "  height=arr[len(arr)-1]\n",
        "water=0\n",
        "for i in range(1, len(arr)-1) :\n",
        "\n",
        "  if arr[i]<height:\n",
        "   water +=(height - arr[i])\n",
        "  #print(arr[i])\n",
        "\n",
        "print(water)\n",
        "#print(height)\n"
      ],
      "metadata": {
        "colab": {
          "base_uri": "https://localhost:8080/"
        },
        "id": "FX0335ONB3YH",
        "outputId": "9efef327-dca9-4692-f111-ba04f2e258fb"
      },
      "execution_count": null,
      "outputs": [
        {
          "output_type": "stream",
          "name": "stdout",
          "text": [
            "10\n"
          ]
        }
      ]
    },
    {
      "cell_type": "code",
      "source": [
        "#problem 8\n",
        "import numpy as np\n",
        "arr=np.array([2,4,7,8,9,10])\n",
        "count=1\n",
        "for i in range(0,len(arr),2):\n",
        "    if count<len(arr):\n",
        "        arr[i],arr[i+1]=arr[i+1],arr[i]\n",
        "    count+=2\n",
        "for i in arr:\n",
        "    print(i, end=\" \")\n"
      ],
      "metadata": {
        "colab": {
          "base_uri": "https://localhost:8080/"
        },
        "id": "5CkaB3Rboqsq",
        "outputId": "d0e251bd-3869-44d6-cfd4-6eda43ba9546"
      },
      "execution_count": null,
      "outputs": [
        {
          "output_type": "stream",
          "name": "stdout",
          "text": [
            "4 2 8 7 10 9 "
          ]
        }
      ]
    },
    {
      "cell_type": "code",
      "source": [
        "#problem 9\n",
        "import numpy as np\n",
        "arr=np.array([3,1,3,3,2])\n",
        "ribon1=np.zeros(len(arr),dtype=int)\n",
        "ribon2=np.zeros(len(arr),dtype=int)\n",
        "\n",
        "\n",
        "count=0\n",
        "for i in range(len(arr)):\n",
        "    if arr[i] not in ribon1:\n",
        "        ribon1[count]=arr[i]\n",
        "        num=0\n",
        "        for j in range(len(arr)):\n",
        "            if arr[j]==arr[i]:\n",
        "                num+=1\n",
        "        ribon2[count]=num\n",
        "        count+=1\n",
        "\n",
        "switch=-1\n",
        "for i in range(len(arr)):\n",
        "    if ribon2[i]!=0:\n",
        "        if ribon2[i]>len(arr)/2:\n",
        "            switch=ribon1[i]\n",
        "print(switch)\n"
      ],
      "metadata": {
        "colab": {
          "base_uri": "https://localhost:8080/"
        },
        "id": "_plIHRZxsk26",
        "outputId": "52caeb0b-00f7-4073-ad87-5a3000dd7c35"
      },
      "execution_count": null,
      "outputs": [
        {
          "output_type": "stream",
          "name": "stdout",
          "text": [
            "3\n"
          ]
        }
      ]
    },
    {
      "cell_type": "code",
      "source": [
        "#problem 10\n",
        "import numpy as np\n",
        "arr= np.array([1, 4, 3, 2, 6, 7])\n",
        "size=len(arr)\n",
        "i=0\n",
        "count=0\n",
        "jump=0\n",
        "while i<size:\n",
        "    count+=arr[i]\n",
        "    jump+=1\n",
        "    if count>=size-1:\n",
        "        break\n",
        "\n",
        "    i+=arr[i]\n",
        "\n",
        "\n",
        "print(jump)"
      ],
      "metadata": {
        "colab": {
          "base_uri": "https://localhost:8080/"
        },
        "id": "2YZVxiBK33ic",
        "outputId": "77e45907-667c-4c51-c461-9ea2eadf68dd"
      },
      "execution_count": null,
      "outputs": [
        {
          "output_type": "stream",
          "name": "stdout",
          "text": [
            "2\n"
          ]
        }
      ]
    },
    {
      "cell_type": "code",
      "source": [
        "#problem 11\n",
        "k=2\n",
        "arr=np.array([1,5,8,10])\n",
        "for i in range(len(arr)):\n",
        "    a=arr[i]-k\n",
        "    if a>0:\n",
        "        arr[i]=a\n",
        "    else:\n",
        "        arr[i]+=k\n",
        "\n",
        "max=-999999\n",
        "min=99999999\n",
        "for i in range(len(arr)):\n",
        "    if arr[i]>max:\n",
        "        max=arr[i]\n",
        "    if arr[i]<min:\n",
        "        min=arr[i]\n",
        "\n",
        "print(max-min)"
      ],
      "metadata": {
        "colab": {
          "base_uri": "https://localhost:8080/"
        },
        "id": "_BcP7a5j5nYJ",
        "outputId": "564f2588-8ede-45f4-fd37-e921badabe82"
      },
      "execution_count": null,
      "outputs": [
        {
          "output_type": "stream",
          "name": "stdout",
          "text": [
            "5\n"
          ]
        }
      ]
    }
  ]
}