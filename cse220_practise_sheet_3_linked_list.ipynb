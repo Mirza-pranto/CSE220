{
  "nbformat": 4,
  "nbformat_minor": 0,
  "metadata": {
    "colab": {
      "provenance": []
    },
    "kernelspec": {
      "name": "python3",
      "display_name": "Python 3"
    },
    "language_info": {
      "name": "python"
    }
  },
  "cells": [
    {
      "cell_type": "code",
      "execution_count": null,
      "metadata": {
        "colab": {
          "base_uri": "https://localhost:8080/"
        },
        "id": "oFH-mlSvMY1V",
        "outputId": "15bb7d36-5662-4650-a4e9-5b064ba52d3a"
      },
      "outputs": [
        {
          "output_type": "stream",
          "name": "stdout",
          "text": [
            "Collecting fhm-unittest\n",
            "  Downloading fhm_unittest-1.0.1-py3-none-any.whl (2.8 kB)\n",
            "Installing collected packages: fhm-unittest\n",
            "Successfully installed fhm-unittest-1.0.1\n",
            "Collecting fuzzywuzzy\n",
            "  Downloading fuzzywuzzy-0.18.0-py2.py3-none-any.whl (18 kB)\n",
            "Installing collected packages: fuzzywuzzy\n",
            "Successfully installed fuzzywuzzy-0.18.0\n"
          ]
        },
        {
          "output_type": "stream",
          "name": "stderr",
          "text": [
            "/usr/local/lib/python3.10/dist-packages/fuzzywuzzy/fuzz.py:11: UserWarning: Using slow pure-python SequenceMatcher. Install python-Levenshtein to remove this warning\n",
            "  warnings.warn('Using slow pure-python SequenceMatcher. Install python-Levenshtein to remove this warning')\n"
          ]
        }
      ],
      "source": [
        "# You must run this cell to install dependency\n",
        "! pip3 install fhm-unittest\n",
        "! pip3 install fuzzywuzzy\n",
        "import fhm_unittest as unittest\n",
        "import numpy as np"
      ]
    },
    {
      "cell_type": "code",
      "source": [
        "class LinkedList:\n",
        "    def __init__(self,arr=None):\n",
        "        if arr==None:\n",
        "            self.head = None\n",
        "        else:\n",
        "            self.head = Node(arr[0])\n",
        "            tail = self.head\n",
        "            for i in range(1,len(arr)):\n",
        "                newNode = Node(arr[i])\n",
        "                tail.next = newNode\n",
        "                tail = newNode\n"
      ],
      "metadata": {
        "id": "fyVBK5y7SRkl"
      },
      "execution_count": null,
      "outputs": []
    },
    {
      "cell_type": "code",
      "source": [],
      "metadata": {
        "id": "hapmmModUSKn"
      },
      "execution_count": null,
      "outputs": []
    },
    {
      "cell_type": "code",
      "source": [
        "class Node:\n",
        "  def __init__(self,elem,next = None):\n",
        "    self.elem,self.next = elem,next\n",
        "\n",
        "def createList(arr):\n",
        "  head = Node(arr[0])\n",
        "  tail = head\n",
        "  for i in range(1,len(arr)):\n",
        "    newNode = Node(arr[i])\n",
        "    tail.next = newNode\n",
        "    tail = newNode\n",
        "  return head\n",
        "\n",
        "def printLinkedList(head):\n",
        "  temp = head\n",
        "  while temp != None:\n",
        "    if temp.next != None:\n",
        "      print(temp.elem, end = '-->')\n",
        "    else:\n",
        "      print(temp.elem)\n",
        "    temp = temp.next\n",
        "  print()"
      ],
      "metadata": {
        "id": "x3bwCj4BNEFr"
      },
      "execution_count": null,
      "outputs": []
    },
    {
      "cell_type": "code",
      "source": [
        "chain=createList([3,8,1,5,7,12])\n",
        "printLinkedList(chain)"
      ],
      "metadata": {
        "colab": {
          "base_uri": "https://localhost:8080/"
        },
        "id": "uGQTvReDNKIT",
        "outputId": "117353fa-102f-450a-f3ee-bfb12c6a37b3"
      },
      "execution_count": null,
      "outputs": [
        {
          "output_type": "stream",
          "name": "stdout",
          "text": [
            "3-->8-->1-->5-->7-->12\n",
            "\n"
          ]
        }
      ]
    },
    {
      "cell_type": "code",
      "source": [
        "#task 1\n",
        "def rotateRight(head):\n",
        "    n=head\n",
        "    temp=head\n",
        "    while n.next.next!=None:\n",
        "\n",
        "        n=n.next\n",
        "    temp=n.next\n",
        "    n.next=None\n",
        "    temp.next=head\n",
        "    head=temp\n",
        "\n",
        "    return head\n",
        "\n",
        "printLinkedList(rotateRight(chain))\n",
        "\n"
      ],
      "metadata": {
        "colab": {
          "base_uri": "https://localhost:8080/"
        },
        "id": "BfWHcwCSNnej",
        "outputId": "b9901260-257c-441b-9fca-00b9c259fa3a"
      },
      "execution_count": null,
      "outputs": [
        {
          "output_type": "stream",
          "name": "stdout",
          "text": [
            "12-->3-->8-->1-->5-->7\n",
            "\n"
          ]
        }
      ]
    },
    {
      "cell_type": "code",
      "source": [
        "#task 2\n",
        "chain1=LinkedList([1,2,3,4,6])\n",
        "chain2=LinkedList([2,4,6,8])\n",
        "\n",
        "def intersection(head1,head2):\n",
        "    n=head1.head\n",
        "    m=head2.head\n",
        "    chain3=LinkedList()\n",
        "    while n!=None:\n",
        "        m=head2.head\n",
        "        while m!=None:\n",
        "\n",
        "            if n.elem==m.elem:\n",
        "                if chain3.head==None:\n",
        "                    chain3.head=Node(n.elem)\n",
        "                    tail=chain3.head\n",
        "\n",
        "                else:\n",
        "                    tail.next=Node(n.elem)\n",
        "                    tail=tail.next\n",
        "                break\n",
        "            m=m.next\n",
        "\n",
        "        n=n.next\n",
        "\n",
        "\n",
        "\n",
        "\n",
        "\n",
        "\n",
        "    return chain3.head\n",
        "\n",
        "printLinkedList(intersection(chain1, chain2))"
      ],
      "metadata": {
        "colab": {
          "base_uri": "https://localhost:8080/"
        },
        "id": "CJawlVCQPp4P",
        "outputId": "e4859e5a-7748-4aac-ef5e-8fa801ce3626"
      },
      "execution_count": null,
      "outputs": [
        {
          "output_type": "stream",
          "name": "stdout",
          "text": [
            "2-->4-->6\n",
            "\n"
          ]
        }
      ]
    },
    {
      "cell_type": "code",
      "source": [
        "#task 4\n",
        "chain1=LinkedList([17,15,8,12,10,5,4,1,7,6])\n",
        "\n",
        "def even_odd(head):\n",
        "    even_chain=LinkedList()\n",
        "    odd_chain=LinkedList()\n",
        "    n=head.head\n",
        "    while n!=None:\n",
        "        if n.elem%2==0:\n",
        "            if even_chain.head==None:\n",
        "                even_chain.head=Node(n.elem)\n",
        "                temp1=even_chain.head\n",
        "            else:\n",
        "                temp1.next=Node(n.elem)\n",
        "                temp1=temp1.next\n",
        "\n",
        "        else:\n",
        "            if odd_chain.head==None:\n",
        "                odd_chain.head=Node(n.elem)\n",
        "                temp2=odd_chain.head\n",
        "            else:\n",
        "                temp2.next=Node(n.elem)\n",
        "                temp2=temp2.next\n",
        "\n",
        "        n=n.next\n",
        "\n",
        "    temp1.next= odd_chain.head\n",
        "    odd_chain=None\n",
        "    return even_chain.head\n",
        "\n",
        "printLinkedList(even_odd(chain1))\n",
        "\n",
        "\n",
        "\n",
        "\n"
      ],
      "metadata": {
        "colab": {
          "base_uri": "https://localhost:8080/"
        },
        "id": "zqgcxP7lbmsW",
        "outputId": "3800222c-ef26-4301-a6ce-8dc6a6858673"
      },
      "execution_count": null,
      "outputs": [
        {
          "output_type": "stream",
          "name": "stdout",
          "text": [
            "8-->12-->10-->4-->6-->17-->15-->5-->1-->7\n",
            "\n"
          ]
        }
      ]
    },
    {
      "cell_type": "code",
      "source": [
        "#task 5\n",
        "N=4\n",
        "chain=LinkedList([10,20,30,40,50])\n",
        "chain2=LinkedList([35,15,4,20,45])\n",
        "def index_from_last(head,N):\n",
        "    n=head.head\n",
        "    count=0\n",
        "    while n!= None:\n",
        "        count+=1\n",
        "        n=n.next\n",
        "\n",
        "    num=count-N\n",
        "    n=head.head\n",
        "    count=0\n",
        "    while n!= None:\n",
        "        if count==num:\n",
        "            return n.elem\n",
        "\n",
        "        count+=1\n",
        "        n=n.next\n",
        "\n",
        "    return -1\n",
        "\n",
        "print(index_from_last(chain2,N))"
      ],
      "metadata": {
        "colab": {
          "base_uri": "https://localhost:8080/"
        },
        "id": "FW4kB4_usBGD",
        "outputId": "13542299-f501-4854-99a1-32d312c40a88"
      },
      "execution_count": null,
      "outputs": [
        {
          "output_type": "stream",
          "name": "stdout",
          "text": [
            "15\n"
          ]
        }
      ]
    },
    {
      "cell_type": "code",
      "source": [
        "#task 6\n",
        "chain1=LinkedList([10,20,30,40,50])\n",
        "chain2=LinkedList([1,2,3,4,5,6])\n",
        "def elem_at(head,idx):\n",
        "    n=head\n",
        "    count=0\n",
        "    while n!= None:\n",
        "        if count==idx:\n",
        "            return n.elem\n",
        "        count+=1\n",
        "        n=n.next\n",
        "    return -1\n",
        "\n",
        "\n",
        "\n",
        "def middle_elem(head):\n",
        "    n=head\n",
        "    count=0\n",
        "    while n!= None:\n",
        "        count+=1\n",
        "        n=n.next\n",
        "\n",
        "    if count%2==0:\n",
        "        idx=count/2\n",
        "        return elem_at(head,idx)\n",
        "\n",
        "    else:\n",
        "\n",
        "        idx=count//2\n",
        "        return elem_at(head,idx)\n",
        "\n",
        "print(middle_elem(chain1.head))\n",
        "print(middle_elem(chain2.head))\n",
        "\n"
      ],
      "metadata": {
        "colab": {
          "base_uri": "https://localhost:8080/"
        },
        "id": "XuVpWQnGv0OR",
        "outputId": "3195a1cc-6c9e-40d8-e92c-2a9362673458"
      },
      "execution_count": null,
      "outputs": [
        {
          "output_type": "stream",
          "name": "stdout",
          "text": [
            "30\n",
            "4\n"
          ]
        }
      ]
    },
    {
      "cell_type": "code",
      "source": [
        "chain1=LinkedList([10,20,30,40,50])\n",
        "chain2=LinkedList([1,2,3,4,5,6])\n",
        "def middle_elem2(head):\n",
        "    n=head\n",
        "    hare=head\n",
        "    turtle=head\n",
        "    middle=head\n",
        "    while hare.next!=None and hare.next.next!=None:\n",
        "\n",
        "        hare=hare.next.next\n",
        "        turtle=turtle.next\n",
        "        #middle=tortoise\n",
        "    return turtle.elem\n",
        "\n",
        "print(middle_elem2(chain1.head))\n",
        "print(middle_elem2(chain2.head))"
      ],
      "metadata": {
        "colab": {
          "base_uri": "https://localhost:8080/"
        },
        "id": "r1WV94Ds0xiA",
        "outputId": "ba36dd6d-a2e3-4c21-fe25-76dc41ab0d0e"
      },
      "execution_count": null,
      "outputs": [
        {
          "output_type": "stream",
          "name": "stdout",
          "text": [
            "30\n",
            "3\n"
          ]
        }
      ]
    },
    {
      "cell_type": "code",
      "source": [
        "#problem 7\n",
        "chain1=LinkedList([10,20,30,40,50])\n",
        "n=chain1.head\n",
        "head=n\n",
        "while n!=None:\n",
        "    tail=n\n",
        "    n=n.next\n",
        "\n",
        "tail.next= head.next\n",
        "def cycle_checker(head):\n",
        "\n",
        "    n=head\n",
        "    hare=head\n",
        "    turtle=head\n",
        "    while hare!=None and hare.next!=None:\n",
        "\n",
        "        hare=hare.next.next\n",
        "        turtle=turtle.next\n",
        "        if hare==turtle:\n",
        "            return True\n",
        "    return False\n",
        "print(cycle_checker(chain1.head))"
      ],
      "metadata": {
        "colab": {
          "base_uri": "https://localhost:8080/"
        },
        "id": "jciHzO7X5inr",
        "outputId": "cf426637-ec13-4af5-9836-549cfdb5fb39"
      },
      "execution_count": null,
      "outputs": [
        {
          "output_type": "stream",
          "name": "stdout",
          "text": [
            "True\n"
          ]
        }
      ]
    },
    {
      "cell_type": "code",
      "source": [
        "#task 9\n",
        "def palindrome_checker(head):\n",
        "    count=0\n",
        "    n=head\n",
        "    while n!=None:\n",
        "        count+=1\n",
        "        n=n.next\n",
        "    #print(count)\n",
        "    num=count//2\n",
        "    #print(num)\n",
        "    n=head\n",
        "    for i in range(num):\n",
        "        x=nodeAt(head,count-1-i)\n",
        "        #print(n.elem,\"  \",x)\n",
        "        if x!=n.elem:\n",
        "            return False\n",
        "\n",
        "        n=n.next\n",
        "\n",
        "    return True\n",
        "\n",
        "def nodeAt(head,idx):\n",
        "    n=head\n",
        "    count=0\n",
        "    while n!= None:\n",
        "        if count==idx:\n",
        "            return n.elem\n",
        "\n",
        "        count+=1\n",
        "        n=n.next\n",
        "    return None\n",
        "\n",
        "chain=LinkedList([1,2,3,1,1])\n",
        "print(palindrome_checker(chain.head))\n"
      ],
      "metadata": {
        "colab": {
          "base_uri": "https://localhost:8080/"
        },
        "id": "x9pWtZGGyRYp",
        "outputId": "2f94d7ae-6e6f-4be8-d606-366e35dd050f"
      },
      "execution_count": null,
      "outputs": [
        {
          "output_type": "stream",
          "name": "stdout",
          "text": [
            "False\n"
          ]
        }
      ]
    },
    {
      "cell_type": "code",
      "source": [
        " #task 10\n",
        " def second_noder(head):\n",
        "    n=head\n",
        "    while n!= None:\n",
        "        if n.next!=None:\n",
        "            n.next=n.next.next\n",
        "        n= n.next\n",
        "\n",
        "    return head\n",
        "\n",
        "chain=LinkedList([10,20,30,40,50])\n",
        "printLinkedList(second_noder(chain.head))\n",
        "\n"
      ],
      "metadata": {
        "colab": {
          "base_uri": "https://localhost:8080/"
        },
        "id": "F7tcrkKDMTdR",
        "outputId": "21415741-2138-41a5-cce5-75fa64ba2361"
      },
      "execution_count": null,
      "outputs": [
        {
          "output_type": "stream",
          "name": "stdout",
          "text": [
            "10-->30-->50\n",
            "\n"
          ]
        }
      ]
    },
    {
      "cell_type": "code",
      "source": [
        " #task 11\n",
        " def identical(head1, head2):\n",
        "    n=head1\n",
        "    m=head2\n",
        "    while n!= None and m!=None:\n",
        "        if n.elem != m.elem:\n",
        "            return \"NOt identical\"\n",
        "        n=n.next\n",
        "        m=m.next\n",
        "\n",
        "    if n!= m:\n",
        "        return \"Not identical \"\n",
        "    else:\n",
        "        return \"identical\"\n",
        "chain1=LinkedList([1,2,3,4,4,6])\n",
        "chain2=LinkedList([1,2,3,4,5,6])\n",
        "print(identical(chain1.head, chain2.head))"
      ],
      "metadata": {
        "colab": {
          "base_uri": "https://localhost:8080/"
        },
        "id": "lGOnLhIATyqt",
        "outputId": "15119f8e-4831-4c64-e02c-c4060a98d259"
      },
      "execution_count": null,
      "outputs": [
        {
          "output_type": "stream",
          "name": "stdout",
          "text": [
            "NOt identical\n"
          ]
        }
      ]
    },
    {
      "cell_type": "code",
      "source": [
        "#task 12\n",
        "def nodeAt(head,idx):\n",
        "    n=head\n",
        "    count=1\n",
        "    while n!= None:\n",
        "        if count==idx:\n",
        "            return n\n",
        "\n",
        "        count+=1\n",
        "        n=n.next\n",
        "def counter(head):\n",
        "    n=head\n",
        "    count=0\n",
        "    while n!= None:\n",
        "\n",
        "\n",
        "        count+=1\n",
        "        n=n.next\n",
        "    return count\n",
        "\n",
        "def exchanger(head, idx):\n",
        "    size= counter(head)\n",
        "\n",
        "    temp1=nodeAt(head,idx)\n",
        "\n",
        "    temp2=nodeAt(head,size+1-idx)\n",
        "    a=temp1.elem\n",
        "    b=temp2.elem\n",
        "    temp1.elem=b\n",
        "    temp2.elem=a\n",
        "\n",
        "    return head\n",
        "chain=LinkedList([1,2,3,4,5,6,7])\n",
        "printLinkedList(exchanger(chain.head,3))\n"
      ],
      "metadata": {
        "colab": {
          "base_uri": "https://localhost:8080/"
        },
        "id": "qQ1fxqtJVwsq",
        "outputId": "ebfb4607-c08b-4c01-9468-fb07e38b68f5"
      },
      "execution_count": null,
      "outputs": [
        {
          "output_type": "stream",
          "name": "stdout",
          "text": [
            "1-->2-->5-->4-->3-->6-->7\n",
            "\n"
          ]
        }
      ]
    }
  ]
}