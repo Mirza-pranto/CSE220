{
  "nbformat": 4,
  "nbformat_minor": 0,
  "metadata": {
    "colab": {
      "provenance": []
    },
    "kernelspec": {
      "name": "python3",
      "display_name": "Python 3"
    },
    "language_info": {
      "name": "python"
    }
  },
  "cells": [
    {
      "cell_type": "markdown",
      "source": [
        "# part 1"
      ],
      "metadata": {
        "id": "otcWIWuljl35"
      }
    },
    {
      "cell_type": "code",
      "source": [
        "import numpy as np"
      ],
      "metadata": {
        "id": "pi_n0okZ1v_O"
      },
      "execution_count": null,
      "outputs": []
    },
    {
      "cell_type": "markdown",
      "source": [
        "**Instructions to Follow (Failing to follow these will result mark deductions).**\n",
        "\n",
        "\n",
        "1.   You can not use any built-in function except len()\n",
        "2.   You can not use any other python collections except array (e.g: tuptle, dictionaries etc.).\n",
        "3. We will initialize a new array using numpy library. We have to mention the fixed size during initialization. There might be two approach.\n",
        "\n",
        "  i. arr = np.array([None] * 10) #Initializing an array length 10 with values None.\n",
        "\n",
        "  ii. arr = np.array([10, 20, 30, 40]) #Initializing an array length 4 with the values.\n",
        "4. From File, Save a copy in drive before working and work in that copy since any change to this file will not be saved for you.\n",
        "\n",
        "\n",
        "\n",
        "\n"
      ],
      "metadata": {
        "id": "lJl5kEU9s6VF"
      }
    },
    {
      "cell_type": "code",
      "execution_count": null,
      "metadata": {
        "id": "nAE3YxgdLMa1",
        "colab": {
          "base_uri": "https://localhost:8080/"
        },
        "outputId": "c581143c-0494-476e-dfe4-a2d71519d65a"
      },
      "outputs": [
        {
          "output_type": "stream",
          "name": "stdout",
          "text": [
            "Collecting fhm-unittest\n",
            "  Downloading fhm_unittest-1.0.1-py3-none-any.whl (2.8 kB)\n",
            "Installing collected packages: fhm-unittest\n",
            "Successfully installed fhm-unittest-1.0.1\n",
            "Collecting fuzzywuzzy\n",
            "  Downloading fuzzywuzzy-0.18.0-py2.py3-none-any.whl (18 kB)\n",
            "Installing collected packages: fuzzywuzzy\n",
            "Successfully installed fuzzywuzzy-0.18.0\n"
          ]
        },
        {
          "output_type": "stream",
          "name": "stderr",
          "text": [
            "/usr/local/lib/python3.10/dist-packages/fuzzywuzzy/fuzz.py:11: UserWarning: Using slow pure-python SequenceMatcher. Install python-Levenshtein to remove this warning\n",
            "  warnings.warn('Using slow pure-python SequenceMatcher. Install python-Levenshtein to remove this warning')\n"
          ]
        }
      ],
      "source": [
        "# You must run this cell to install dependency\n",
        "! pip3 install fhm-unittest\n",
        "! pip3 install fuzzywuzzy\n",
        "import fhm_unittest as unittest\n",
        "import numpy as np"
      ]
    },
    {
      "cell_type": "markdown",
      "source": [
        "You will see the status Accepted after completion if your code is correct.\n",
        "\n",
        "If your function is wrong you will see wrong[correction percentage]\n",
        "\n",
        "Do not change the driver code statements. You can only change the input values to test your code."
      ],
      "metadata": {
        "id": "rFXn6m1mbHYC"
      }
    },
    {
      "cell_type": "code",
      "source": [
        "# Test 01: Play Right\n",
        "def playRight(sequence, beats):\n",
        "    # TO DO\n",
        "    for i in beats:\n",
        "      if i==1:\n",
        "        temp=sequence[len(sequence)-1]\n",
        "        for j in range(len(sequence)-1,0,-1):\n",
        "          sequence[j]=sequence[j-1]\n",
        "        sequence[0]=temp\n",
        "\n",
        "\n",
        "    return sequence\n",
        "\n",
        "print(\"///  Test 01: Play Right  ///\")\n",
        "sequence = np.array([10, 20, 30, 40, 50, 60])\n",
        "beats = np.array([1, 0, 0, 1, 0, 1])\n",
        "returned_value = playRight(sequence, beats)\n",
        "print(f'Task 1: {returned_value}')  # This should print [40, 50, 60, 10, 20, 30]"
      ],
      "metadata": {
        "id": "hzdDNKdRahbQ",
        "colab": {
          "base_uri": "https://localhost:8080/"
        },
        "outputId": "073c98aa-e352-43d7-f2f5-154e4c9dbf47"
      },
      "execution_count": null,
      "outputs": [
        {
          "output_type": "stream",
          "name": "stdout",
          "text": [
            "///  Test 01: Play Right  ///\n",
            "Task 1: [40 50 60 10 20 30]\n"
          ]
        }
      ]
    },
    {
      "cell_type": "code",
      "source": [
        "# Test 02: Discard Cards\n",
        "\n",
        "def discardCards(cards,number):\n",
        "  # TO DO\n",
        "  for i in range(len(cards)):\n",
        "    if cards[i]==number:\n",
        "        while cards[i]==number:\n",
        "          for k in range(i,len(cards)-1):\n",
        "            cards[k]=cards[k+1]\n",
        "          cards[len(cards)-1]=0\n",
        "\n",
        "\n",
        "  return cards\n",
        "\n",
        "\n",
        "print(\"///  Test 02: Discard Cards  ///\")\n",
        "cards = np.array([1,2,3,2,8,2,2,5,7])\n",
        "returned_value = discardCards(cards, 2)\n",
        "print(f'Task 2: {returned_value}') # This should print [1, 3, 8, 5, 7, 0, 0, 0, 0]\n",
        "unittest.output_test(returned_value, np.array([1, 3, 8, 5, 7, 0, 0, 0, 0]))"
      ],
      "metadata": {
        "id": "Ag1wNuXgaoh4"
      },
      "execution_count": null,
      "outputs": []
    },
    {
      "cell_type": "code",
      "source": [
        "#Test 03: Merge Lineup\n",
        "def mergeLineup(pokemon_1, pokemon_2):\n",
        "  result = [None]*len(pokemon_1) #this array stores the resulting array\n",
        "  # TO DO\n",
        "\n",
        "  for i in range(len(pokemon_1)):\n",
        "    if pokemon_1[i]==None:\n",
        "      a=0\n",
        "    else:\n",
        "      a=pokemon_1[i]\n",
        "    #for pokemon2 in reverse\n",
        "    if pokemon_2[len(pokemon_2)-i-1]==None:\n",
        "      b=0\n",
        "    else:\n",
        "      b=pokemon_2[len(pokemon_2)-i-1]\n",
        "    #inserting\n",
        "    result[i]=a+b\n",
        "\n",
        "  return np.array(result)\n",
        "\n",
        "print(\"///  Test 03: Merge Lineup  ///\")\n",
        "pokemon_1 = np.array([12, 3, 25, 1, None])\n",
        "pokemon_2 = np.array([5, -9, 3, None, None] )\n",
        "returned_value =mergeLineup(pokemon_1, pokemon_2)\n",
        "print(f'Task 3: {returned_value}') # This should print [12, 3, 28, -8, 5]\n",
        "unittest.output_test(returned_value, np.array([12, 3, 28, -8, 5]))\n",
        "\n",
        "pokemon_1 = np.array([4, 5, -1, None, None])\n",
        "pokemon_2 = np.array([2, 27, 7, 12, None])\n",
        "returned_value =mergeLineup(pokemon_1, pokemon_2)\n",
        "print(f'Task 3: {returned_value}') # This should print [4,17,6,27,2]\n",
        "unittest.output_test(returned_value, np.array([4,17,6,27,2]))"
      ],
      "metadata": {
        "id": "Ene8Dp4vasuN",
        "colab": {
          "base_uri": "https://localhost:8080/"
        },
        "outputId": "881b9eed-eb4e-4127-a67a-0092cdfeac0b"
      },
      "execution_count": null,
      "outputs": [
        {
          "output_type": "stream",
          "name": "stdout",
          "text": [
            "///  Test 03: Merge Lineup  ///\n",
            "Task 3: [12  3 28 -8  5]\n",
            "Accepted\n",
            "Task 3: [ 4 17  6 27  2]\n",
            "Accepted\n"
          ]
        }
      ]
    },
    {
      "cell_type": "code",
      "source": [
        "# Test 04: Balance your Salami\n",
        "def balanceSalami(salami):\n",
        "  # TO DO\n",
        "  switch=False\n",
        "  total=0\n",
        "  my=0\n",
        "\n",
        "  for i in range (len(salami)):\n",
        "      total+=salami[i]\n",
        "  brother=total\n",
        "  for i in range (len(salami)):\n",
        "    my+=salami[i]\n",
        "    brother-=salami[i]\n",
        "    if my==brother:\n",
        "      switch=True\n",
        "      break\n",
        "\n",
        "  return switch\n",
        "\n",
        "print(\"///  Test 04: Balance Your Salami  ///\")\n",
        "salami = np.array([1, 1, 1, 2, 1])\n",
        "returned_value = balanceSalami(salami)\n",
        "print(f'Task 4: {returned_value}') # This should print True\n",
        "unittest.output_test(returned_value, True)\n",
        "\n",
        "salami = [2, 1, 1, 2, 1]\n",
        "returned_value = np.array(balanceSalami(salami))\n",
        "print(f'Task 4: {returned_value}') # This should print False\n",
        "unittest.output_test(returned_value, False)\n",
        "\n",
        "salami = [10, 3, 1, 2, 10]\n",
        "returned_value =  np.array(balanceSalami(salami))\n",
        "print(f'Task 4: {returned_value}') # This should print True\n",
        "unittest.output_test(returned_value, True)"
      ],
      "metadata": {
        "id": "ox9p5qL7axD8",
        "colab": {
          "base_uri": "https://localhost:8080/"
        },
        "outputId": "2b2846c2-b848-4be0-ff55-9056838c421a"
      },
      "execution_count": null,
      "outputs": [
        {
          "output_type": "stream",
          "name": "stdout",
          "text": [
            "///  Test 04: Balance Your Salami  ///\n",
            "Task 4: True\n",
            "Accepted\n",
            "Task 4: False\n",
            "Accepted\n",
            "Task 4: True\n",
            "Accepted\n"
          ]
        }
      ]
    },
    {
      "cell_type": "code",
      "source": [
        "# Test 05: Protecc Salami\n",
        "def protectSalami(salami):\n",
        "  # TO DO\n",
        "  a=np.array([0]*len(salami))\n",
        "  b=np.array([0]*len(salami))\n",
        "  count=0\n",
        "  for i in range(len(salami)):\n",
        "    if salami[i]!=0:\n",
        "      for k in range(len(a)):\n",
        "\n",
        "        if (salami[i] == a[k]):\n",
        "\n",
        "          for j in range(len(a)):\n",
        "            if a[j]==salami[i]:\n",
        "              b[j]+=1\n",
        "              break\n",
        "      else:\n",
        "            a[count]=salami[i]\n",
        "            b[count]=1\n",
        "            count+=1\n",
        "\n",
        "  for i in range(len(b)):\n",
        "    if b[i]>1:\n",
        "      for k in range(i+1,len(b)):\n",
        "        if b[i]==b[k]:\n",
        "          return True\n",
        "          break\n",
        "\n",
        "  return False\n",
        "\n",
        "print(\"///  Test 05: Protecc Salami  ///\")\n",
        "salami = np.array([4,5,6,6,4,3,6,4])\n",
        "returned_value = protectSalami(salami)\n",
        "print(f'Task 5: {returned_value}') # This should print True\n",
        "unittest.output_test(returned_value, True)\n",
        "\n",
        "salami = np.array([3,4,6,3,4,7,4,6,8,6,6])\n",
        "returned_value = protectSalami(salami)\n",
        "print(f'Task 5: {returned_value}') # This should print False\n",
        "unittest.output_test(returned_value, False)"
      ],
      "metadata": {
        "colab": {
          "base_uri": "https://localhost:8080/"
        },
        "id": "iJhgwTmGF2w1",
        "outputId": "6a73df83-e76d-4394-9e83-4af656db831d"
      },
      "execution_count": null,
      "outputs": [
        {
          "output_type": "stream",
          "name": "stdout",
          "text": [
            "///  Test 05: Protecc Salami  ///\n",
            "Task 5: True\n",
            "Accepted\n",
            "Task 5: False\n",
            "Accepted\n"
          ]
        }
      ]
    },
    {
      "cell_type": "code",
      "source": [
        "# Test 05: Protecc Salami\n",
        "#by usisng in function\n",
        "def protectSalami(salami):\n",
        "  # TO DO\n",
        "  a=np.array([0]*len(salami))\n",
        "  b=np.array([0]*len(salami))\n",
        "  count=0\n",
        "  for i in range(len(salami)):\n",
        "    if salami[i]!=0:\n",
        "      if salami[i] not in a:\n",
        "\n",
        "             a[count]=salami[i]\n",
        "            num=0\n",
        "            for k in range(len(salami)):\n",
        "                if salami[i]==salami[k]:\n",
        "                    num+=1\n",
        "\n",
        "            b[count]=num\n",
        "            count+=1\n",
        "\n",
        "  for i in range(len(b)):\n",
        "    if b[i]>1:\n",
        "      if b[i] in b[i+1:len(b)]:\n",
        "\n",
        "          return True\n",
        "\n",
        "\n",
        "  return False\n",
        "\n",
        "print(\"///  Test 05: Protecc Salami  ///\")\n",
        "salami = np.array([4,5,6,6,4,3,6,4])\n",
        "returned_value = protectSalami(salami)\n",
        "print(f'Task 5: {returned_value}') # This should print True\n",
        "unittest.output_test(returned_value, True)\n",
        "\n",
        "salami = np.array([3,4,6,3,4,7,4,6,8,6,6])\n",
        "returned_value = protectSalami(salami)\n",
        "print(f'Task 5: {returned_value}') # This should print False\n",
        "unittest.output_test(returned_value, False)"
      ],
      "metadata": {
        "colab": {
          "base_uri": "https://localhost:8080/"
        },
        "id": "HYwRVqofpdGa",
        "outputId": "829ddc1c-62c7-4920-9318-9bce7e701d58"
      },
      "execution_count": null,
      "outputs": [
        {
          "output_type": "stream",
          "name": "stdout",
          "text": [
            "///  Test 05: Protecc Salami  ///\n",
            "Task 5: True\n",
            "Accepted\n",
            "Task 5: False\n",
            "Accepted\n"
          ]
        }
      ]
    },
    {
      "cell_type": "markdown",
      "source": [
        "BONUS TASK (Ungraded)"
      ],
      "metadata": {
        "id": "_6RT_GOabsDF"
      }
    },
    {
      "cell_type": "code",
      "source": [
        "# Test 06: Odd Even Wave\n",
        "def waveYourFlag(arr):\n",
        "  # TO DO\n",
        "  even=0\n",
        "  odd=0\n",
        "  even_arr=np.array([0]*len(arr))\n",
        "  odd_arr=np.array([0]*len(arr))\n",
        "  ribon=np.array([0]*len(arr))\n",
        "  for i in range(len(arr)):\n",
        "    if arr[i]%2==0:\n",
        "      even_arr[even]=arr[i]\n",
        "      even+=1\n",
        "    else:\n",
        "      odd_arr[odd]=arr[i]\n",
        "      odd+=1\n",
        "\n",
        "\n",
        "  ribon[0]=arr[0]\n",
        "\n",
        "  if arr[0]%2==0:\n",
        "    count=1\n",
        "    for i in range(odd):\n",
        "      ribon[count]=odd_arr[i]\n",
        "      count+=2\n",
        "    count=2\n",
        "    for i in range(even-1):\n",
        "      ribon[count]=even_arr[i+1]\n",
        "      count+=2\n",
        "  else:\n",
        "     count=1\n",
        "     for i in range(even):\n",
        "       ribon[count]=even_arr[i]\n",
        "       count+=2\n",
        "     count=2\n",
        "     for i in range(odd-1):\n",
        "       ribon[count]=odd_arr[i+1]\n",
        "       count+=2\n",
        "\n",
        "  return ribon\n",
        "\n",
        "print(\"///  Test 06: Odd Even Wave  ///\")\n",
        "arr = np.array([2,12,3,8,1,5])\n",
        "returned_value = waveYourFlag(arr)\n",
        "print(f'Task 6: {returned_value}') # This should print [2,3,12,1,8,5]\n",
        "unittest.output_test(returned_value, np.array([2,3,12,1,8,5]))\n",
        "\n",
        "arr = np.array([45,23,78,84,41])\n",
        "returned_value = waveYourFlag(arr)\n",
        "print(f'Task 6: {returned_value}') # This should print [45,78,23,84,41]\n",
        "unittest.output_test(returned_value, np.array([45,78,23,84,41]))"
      ],
      "metadata": {
        "id": "mrxIQ5rBhzPj",
        "colab": {
          "base_uri": "https://localhost:8080/"
        },
        "outputId": "0bd1a366-88c3-4969-d734-f218ca485194"
      },
      "execution_count": null,
      "outputs": [
        {
          "output_type": "stream",
          "name": "stdout",
          "text": [
            "///  Test 06: Odd Even Wave  ///\n",
            "Task 6: [ 2  3 12  1  8  5]\n",
            "Accepted\n",
            "Task 6: [45 78 23 84 41]\n",
            "Accepted\n"
          ]
        }
      ]
    },
    {
      "cell_type": "markdown",
      "source": [
        "# part 2"
      ],
      "metadata": {
        "id": "HUGjrw_ejetY"
      }
    },
    {
      "cell_type": "code",
      "source": [
        "def mean_of_array(arr):\n",
        "  sum=0\n",
        "  for i in arr:\n",
        "    sum+=i\n",
        "  mean=sum/len(arr)\n",
        "  return mean\n",
        "panel=[76,84,69,92,58,89,73,97,85,77]\n",
        "print(mean_of_array(panel))"
      ],
      "metadata": {
        "colab": {
          "base_uri": "https://localhost:8080/"
        },
        "id": "UrBKlYoet3r4",
        "outputId": "397a3bba-9a35-4d9e-adb4-cbb9c3880223"
      },
      "execution_count": null,
      "outputs": [
        {
          "output_type": "stream",
          "name": "stdout",
          "text": [
            "80.0\n"
          ]
        }
      ]
    },
    {
      "cell_type": "code",
      "source": [
        "def standard_devition(arr):\n",
        "  mean=mean_of_array(arr)\n",
        "  m=0\n",
        "  for i in range(len(arr)):\n",
        "    m+=(arr[i]-mean)**2\n",
        "\n",
        "  return (m/(len(arr)-1))**.5\n",
        "panel=[76,84,69,92,58,89,73,97,85,77]\n",
        "print(standard_devition(panel))"
      ],
      "metadata": {
        "colab": {
          "base_uri": "https://localhost:8080/"
        },
        "id": "RLmRgnMJkAD5",
        "outputId": "75cee726-d958-4ee8-f356-d9b8acfbf053"
      },
      "execution_count": null,
      "outputs": [
        {
          "output_type": "stream",
          "name": "stdout",
          "text": [
            "11.709445380166864\n"
          ]
        }
      ]
    },
    {
      "cell_type": "code",
      "source": [
        "def a(arr):\n",
        "  mean=mean_of_array(arr)\n",
        "  s=standard_devition(arr)\n",
        "  x=mean+(1.5*s)\n",
        "  y=mean-(1.5*s)\n",
        "  count=0\n",
        "  for i in range(len(arr)):\n",
        "    if arr[i]>x :\n",
        "\n",
        "      count+=1\n",
        "    elif  arr[i]<y:\n",
        "\n",
        "      count+=1\n",
        "  panel1=np.array([0]*count)\n",
        "  count=0\n",
        "  for i in range(len(arr)):\n",
        "    if arr[i]>x :\n",
        "      panel1[count]=arr[i]\n",
        "      count+=1\n",
        "    elif  arr[i]<y:\n",
        "      panel1[count]=arr[i]\n",
        "      count+=1\n",
        "  return panel1\n",
        "panel= [10, 8, 13, 9, 14, 25, -5, 20, 7, 7, 4]\n",
        "print(a(panel))\n",
        "\n",
        "\n",
        "\n",
        "\n"
      ],
      "metadata": {
        "colab": {
          "base_uri": "https://localhost:8080/"
        },
        "id": "ypc5lQCXuqCP",
        "outputId": "98b6f39e-fbf3-4caa-ca4e-b4ddfdd5d379"
      },
      "execution_count": null,
      "outputs": [
        {
          "output_type": "stream",
          "name": "stdout",
          "text": [
            "[25 -5]\n"
          ]
        }
      ]
    }
  ]
}