{
  "nbformat": 4,
  "nbformat_minor": 0,
  "metadata": {
    "colab": {
      "provenance": []
    },
    "kernelspec": {
      "name": "python3",
      "display_name": "Python 3"
    },
    "language_info": {
      "name": "python"
    }
  },
  "cells": [
    {
      "cell_type": "code",
      "execution_count": null,
      "metadata": {
        "colab": {
          "base_uri": "https://localhost:8080/"
        },
        "id": "aR2EYh9cxw0I",
        "outputId": "8d968eb2-0485-4591-8604-66d44773b851"
      },
      "outputs": [
        {
          "output_type": "stream",
          "name": "stdout",
          "text": [
            "3\n"
          ]
        }
      ],
      "source": [
        " #task 1\n",
        "def sumDigits(num):\n",
        "    if num==0 :\n",
        "        return 0\n",
        "    else:\n",
        "        return (num%10)+sumDigits(num//10)\n",
        "\n",
        "print(sumDigits(12))"
      ]
    },
    {
      "cell_type": "code",
      "source": [],
      "metadata": {
        "id": "tQzHxzGB08aN"
      },
      "execution_count": null,
      "outputs": []
    },
    {
      "cell_type": "code",
      "source": [
        "#task 2\n",
        "def bunnyEars(num):\n",
        "    if num==0:\n",
        "        return 0\n",
        "\n",
        "    elif num%2==0:\n",
        "        return 3+bunnyEars(num-1)\n",
        "    else:\n",
        "        return 2+bunnyEars(num-1)\n",
        "\n",
        "print(bunnyEars(0))"
      ],
      "metadata": {
        "colab": {
          "base_uri": "https://localhost:8080/"
        },
        "id": "rVKPyDOlzJiQ",
        "outputId": "68ab25ec-533e-4ce2-d465-7e7d3831fee0"
      },
      "execution_count": null,
      "outputs": [
        {
          "output_type": "stream",
          "name": "stdout",
          "text": [
            "0\n"
          ]
        }
      ]
    },
    {
      "cell_type": "markdown",
      "source": [
        "Given a non-negative int n, return the count of the occurrences of 7 as a digit, so for example\n",
        "717 yields 2. (no loops). Note that mod (%) by 10 yields the rightmost digit (126 % 10 is 6),\n",
        "while divide (/) by 10 removes the rightmost digit (126 / 10 is 12).\n",
        "Example:\n",
        "Input: count7(717)\n",
        "Output: 2\n",
        "Input: count7(7)\n",
        "Output: 1\n",
        "Input: count7(123)\n",
        "Output: 0"
      ],
      "metadata": {
        "id": "CfHZV8GK1SBJ"
      }
    },
    {
      "cell_type": "code",
      "source": [
        "#task 3\n",
        "def count(num):\n",
        "    if num==0 :\n",
        "        return 0\n",
        "    elif num%10==7:\n",
        "        return 1+count(num//10)\n",
        "    else:\n",
        "        return count(num//10)\n",
        "\n",
        "print(count(7))"
      ],
      "metadata": {
        "colab": {
          "base_uri": "https://localhost:8080/"
        },
        "id": "qxlNXCqJ0TPQ",
        "outputId": "5ac6c9fb-e471-4247-de41-c20e34fc1127"
      },
      "execution_count": null,
      "outputs": [
        {
          "output_type": "stream",
          "name": "stdout",
          "text": [
            "1\n"
          ]
        }
      ]
    },
    {
      "cell_type": "code",
      "source": [
        "#task 4\n",
        "\n",
        "def countX(s):\n",
        "    if s==\"\" :\n",
        "        return 0\n",
        "    elif s[0]==\"x\":\n",
        "        return 1+countX(s[1:])\n",
        "    else:\n",
        "        return countX(s[1:])\n",
        "\n",
        "print(countX(\"xhixhix\"))"
      ],
      "metadata": {
        "colab": {
          "base_uri": "https://localhost:8080/"
        },
        "id": "B2tjt4fB1Od_",
        "outputId": "4dcc27bc-f783-4dc6-ed92-d49178132b6f"
      },
      "execution_count": null,
      "outputs": [
        {
          "output_type": "stream",
          "name": "stdout",
          "text": [
            "3\n"
          ]
        }
      ]
    },
    {
      "cell_type": "code",
      "source": [
        "#task 5\n",
        "def changePi(s):\n",
        "    if s==\"\":\n",
        "        return \"\"\n",
        "    elif s[:2]==\"pi\":\n",
        "        return str(3.14) +changePi(s[2:])\n",
        "    else:\n",
        "        return str(s[0])+str(changePi(s[1:]))\n",
        "\n",
        "print(changePi(\"xpip\"))\n"
      ],
      "metadata": {
        "colab": {
          "base_uri": "https://localhost:8080/"
        },
        "id": "MC6MGT8C4agp",
        "outputId": "18ed011b-2fb2-4be8-da9e-b6e63da45ca3"
      },
      "execution_count": null,
      "outputs": [
        {
          "output_type": "stream",
          "name": "stdout",
          "text": [
            "x3.14p\n"
          ]
        }
      ]
    },
    {
      "cell_type": "code",
      "source": [
        "def array11(arr, idx):\n",
        "    if len(arr)==idx:\n",
        "        return 0\n",
        "\n",
        "    elif arr[idx]==11:\n",
        "        return 1+array11(arr, idx+1)\n",
        "    else:\n",
        "        return array11(arr, idx+1)\n",
        "\n",
        "a=[1,2,11,11]\n",
        "print(array11(a, 0))"
      ],
      "metadata": {
        "colab": {
          "base_uri": "https://localhost:8080/"
        },
        "id": "P_SQYDPKS-HH",
        "outputId": "2c787b68-1b30-4e89-a24c-507650dcf556"
      },
      "execution_count": null,
      "outputs": [
        {
          "output_type": "stream",
          "name": "stdout",
          "text": [
            "2\n"
          ]
        }
      ]
    },
    {
      "cell_type": "code",
      "source": [
        "#task 7\n",
        "def pairStar(s):\n",
        "\n",
        "    if len(s)==1:\n",
        "        return s[0]\n",
        "    elif s[0]==s[1]:\n",
        "        return str(s[0])+str(\"*\") +pairStar(s[1:])\n",
        "    else:\n",
        "        return str(s[0])+str(pairStar(s[1:]))\n",
        "\n",
        "print(pairStar(\"xxxyya\"))"
      ],
      "metadata": {
        "colab": {
          "base_uri": "https://localhost:8080/"
        },
        "id": "40BKiHBvEcFq",
        "outputId": "24b9210b-c4ca-4208-852f-a5e340722678"
      },
      "execution_count": null,
      "outputs": [
        {
          "output_type": "stream",
          "name": "stdout",
          "text": [
            "x*x*xy*ya\n"
          ]
        }
      ]
    },
    {
      "cell_type": "code",
      "source": [
        " #task 8\n",
        " def countAbc(s):\n",
        "    if s==\"\":\n",
        "        return 0\n",
        "    elif s[:3]==\"abc\" or s[0:3]==\"aba\":\n",
        "        return 1+ countAbc(s[3:])\n",
        "    else:\n",
        "        return countAbc(s[1:])\n",
        "print(countAbc(\"abaxxaba\"))"
      ],
      "metadata": {
        "colab": {
          "base_uri": "https://localhost:8080/"
        },
        "id": "f-nSbMD6Glu7",
        "outputId": "7e0ea486-ecba-4735-ce97-456a9f8e46eb"
      },
      "execution_count": null,
      "outputs": [
        {
          "output_type": "stream",
          "name": "stdout",
          "text": [
            "2\n"
          ]
        }
      ]
    },
    {
      "cell_type": "code",
      "source": [
        "#task 9\n",
        "def countHi(s):\n",
        "    if s==\"\":\n",
        "        return 0\n",
        "    elif s[:3]    ==\"xhi\":\n",
        "        return countHi(s[3:])\n",
        "\n",
        "    elif s[:2]==\"hi\":\n",
        "        return 1+countHi(s[2:])\n",
        "    else:\n",
        "        return countHi(s[1:])\n",
        "\n",
        "print(countHi(\"xhixhihi\"))"
      ],
      "metadata": {
        "colab": {
          "base_uri": "https://localhost:8080/"
        },
        "id": "t4V29zs9JMt9",
        "outputId": "7ef9d3fa-0f57-48fb-d8ab-76bcdbb2d1c2"
      },
      "execution_count": null,
      "outputs": [
        {
          "output_type": "stream",
          "name": "stdout",
          "text": [
            "1\n"
          ]
        }
      ]
    },
    {
      "cell_type": "code",
      "source": [
        "#task 10\n",
        "def catcowcat(s,key):\n",
        "    if s==\"\":\n",
        "        return 0\n",
        "    elif s[:len(key)]  ==key:\n",
        "        return 1+catcowcat(s[len(key):],key)\n",
        "\n",
        "\n",
        "    else:\n",
        "        return catcowcat(s[1:], key)\n",
        "\n",
        "print(catcowcat(\"catcowcat\",\"cow\"))"
      ],
      "metadata": {
        "colab": {
          "base_uri": "https://localhost:8080/"
        },
        "id": "tmDFa-0-KLjX",
        "outputId": "d123db29-c145-4f05-824d-0a7550c7df8a"
      },
      "execution_count": null,
      "outputs": [
        {
          "output_type": "stream",
          "name": "stdout",
          "text": [
            "1\n"
          ]
        }
      ]
    },
    {
      "cell_type": "code",
      "source": [
        "#task 11\n",
        "def bunnyEars(num):\n",
        "    if num==0:\n",
        "        return 0\n",
        "    else:\n",
        "        return 2+bunnyEars(num-1)\n",
        "\n",
        "print(bunnyEars(0))\n",
        "\n",
        "print(bunnyEars(1))\n",
        "print(bunnyEars(2))"
      ],
      "metadata": {
        "colab": {
          "base_uri": "https://localhost:8080/"
        },
        "id": "NoB36s0SL2YK",
        "outputId": "759bd8f9-0ae2-427a-fac5-9c2ca54b4c8a"
      },
      "execution_count": null,
      "outputs": [
        {
          "output_type": "stream",
          "name": "stdout",
          "text": [
            "0\n",
            "2\n",
            "4\n"
          ]
        }
      ]
    },
    {
      "cell_type": "code",
      "source": [
        "#task 12\n",
        "def triangle(num):\n",
        "    if num==0:\n",
        "        return 0\n",
        "    else:\n",
        "       return num+triangle(num-1)\n",
        "\n",
        "print(triangle(0))\n",
        "print(triangle(1))\n",
        "print(triangle(2))"
      ],
      "metadata": {
        "colab": {
          "base_uri": "https://localhost:8080/"
        },
        "id": "QEvqEfs_MW9Y",
        "outputId": "087a94e5-d39b-49d4-81fe-3c8633422410"
      },
      "execution_count": null,
      "outputs": [
        {
          "output_type": "stream",
          "name": "stdout",
          "text": [
            "0\n",
            "1\n",
            "3\n"
          ]
        }
      ]
    },
    {
      "cell_type": "code",
      "source": [
        "#task 13\n",
        "def noX(s):\n",
        "    if s==\"\":\n",
        "        return \"\"\n",
        "    elif s[0]==\"x\":\n",
        "        return noX(s[1:])\n",
        "    else:\n",
        "        return str(s[0])+noX(s[1:])\n",
        "\n",
        "print(noX(\"xaxb\"))\n",
        "print(noX(\"abc\"))\n",
        "print(noX(\"xx\"))"
      ],
      "metadata": {
        "colab": {
          "base_uri": "https://localhost:8080/"
        },
        "id": "eNfUoJ94NFBW",
        "outputId": "abbd0149-2848-4d95-9a8c-9be4a1461115"
      },
      "execution_count": null,
      "outputs": [
        {
          "output_type": "stream",
          "name": "stdout",
          "text": [
            "ab\n",
            "abc\n",
            "\n"
          ]
        }
      ]
    },
    {
      "cell_type": "code",
      "source": [
        " #taSK 15\n",
        " def endX(s):\n",
        "    if s==\"\":\n",
        "        return \"\"\n",
        "    elif s[0]==\"x\":\n",
        "        return endX(s[1:])+\"x\"\n",
        "    else:\n",
        "        return str(s[0])+endX(s[1:])\n",
        "\n",
        "print(endX(\"xxre\"))\n",
        "\n",
        "print(endX(\"xxhixx\"))\n",
        "print(endX(\"xhixhix\"))"
      ],
      "metadata": {
        "colab": {
          "base_uri": "https://localhost:8080/"
        },
        "id": "GGYSksksOIPL",
        "outputId": "58c0083f-1188-4e70-dc8c-89ba38d6f924"
      },
      "execution_count": null,
      "outputs": [
        {
          "output_type": "stream",
          "name": "stdout",
          "text": [
            "rexx\n",
            "hixxxx\n",
            "hihixxx\n"
          ]
        }
      ]
    },
    {
      "cell_type": "code",
      "source": [
        "#task 16\n",
        "#same as previous problem"
      ],
      "metadata": {
        "id": "JJ6xU5aeY3dQ"
      },
      "execution_count": null,
      "outputs": []
    },
    {
      "cell_type": "code",
      "source": [
        "\n",
        "#task 18\n",
        "def strCopies(s,k,n):\n",
        "\n",
        "    if s==\"\":\n",
        "        return 0\n",
        "    elif s[:len(k)]  ==k:\n",
        "        x= 1+strCopies(s[len(k):],k,n)\n",
        "        if x>=n:\n",
        "            return True\n",
        "\n",
        "        else:\n",
        "            return False\n",
        "\n",
        "\n",
        "\n",
        "    else:\n",
        "        return strCopies(s[1:], k,n)\n",
        "\n",
        "\n",
        "\n",
        "\n",
        "\n",
        "\n",
        "\n",
        "print(strCopies(\"catcowcata \", \"cat\", 2))"
      ],
      "metadata": {
        "colab": {
          "base_uri": "https://localhost:8080/"
        },
        "id": "jzxpE41xZ9Qb",
        "outputId": "333af2b2-95f6-4f5a-e0cf-3688fffde17d"
      },
      "execution_count": null,
      "outputs": [
        {
          "output_type": "stream",
          "name": "stdout",
          "text": [
            "False\n"
          ]
        }
      ]
    },
    {
      "cell_type": "code",
      "source": [],
      "metadata": {
        "id": "EyPXRVx7xrk1"
      },
      "execution_count": null,
      "outputs": []
    },
    {
      "cell_type": "code",
      "source": [],
      "metadata": {
        "id": "PIxLlOUNvjA2"
      },
      "execution_count": null,
      "outputs": []
    },
    {
      "cell_type": "code",
      "source": [
        "#task 19\n",
        "def changeXY(s):\n",
        "    if s==\"\":\n",
        "        return \"\"\n",
        "\n",
        "    elif s[0]==\"x\":\n",
        "            return \"y\"+str(changeXY(s[1:]))\n",
        "\n",
        "    else:\n",
        "        return str(s[0])+str(changeXY(s[1:]))\n",
        "print(changeXY(\"codex\"))\n",
        "\n"
      ],
      "metadata": {
        "colab": {
          "base_uri": "https://localhost:8080/"
        },
        "id": "rH7YtvPJqvPX",
        "outputId": "9efd6678-40f9-442f-c636-219ce4268bcb"
      },
      "execution_count": null,
      "outputs": [
        {
          "output_type": "stream",
          "name": "stdout",
          "text": [
            "codey\n"
          ]
        }
      ]
    },
    {
      "cell_type": "code",
      "source": [
        "#task 20\n",
        "def array6(arr, idx):\n",
        "    if len(arr)==idx:\n",
        "        return False\n",
        "    elif arr[idx]==6:\n",
        "        return True\n",
        "    else:\n",
        "        return array6(arr, idx+1)\n",
        "print(array6([1,6,4],2))"
      ],
      "metadata": {
        "colab": {
          "base_uri": "https://localhost:8080/"
        },
        "id": "48JwPyjVtMn_",
        "outputId": "1e88e9fc-6a09-4c0e-b931-d36bfb264d96"
      },
      "execution_count": null,
      "outputs": [
        {
          "output_type": "stream",
          "name": "stdout",
          "text": [
            "False\n"
          ]
        }
      ]
    },
    {
      "cell_type": "code",
      "source": [
        "#task 21\n",
        "def allStar(s):\n",
        "    if s==\"\":\n",
        "        return \"\"\n",
        "    else:\n",
        "\n",
        "        return str(s[0])+\"*\"+str(allStar(s[1:]))\n",
        "\n",
        "print(allStar(\"hell0\"))"
      ],
      "metadata": {
        "colab": {
          "base_uri": "https://localhost:8080/"
        },
        "id": "4565ZzgjvkIm",
        "outputId": "6d527725-abea-4574-b5d1-b4083f16e2d6"
      },
      "execution_count": null,
      "outputs": [
        {
          "output_type": "stream",
          "name": "stdout",
          "text": [
            "h*e*l*l*0*\n"
          ]
        }
      ]
    },
    {
      "cell_type": "code",
      "source": [
        "#task 23\n",
        "def stringClean(s):\n",
        "    if len(s)==1:\n",
        "        return str(s[0])\n",
        "\n",
        "    elif s[0]==s[1]:\n",
        "        return stringClean(s[1:])\n",
        "    else:\n",
        "        return str(s[0]) +str(stringClean(s[1:]))\n",
        "\n",
        "print(stringClean(\"yyyyyzzza\"))\n",
        "print(stringClean(\"helll0\"))\n",
        "print(stringClean(\"yyyyyzzza\"))"
      ],
      "metadata": {
        "colab": {
          "base_uri": "https://localhost:8080/"
        },
        "id": "J86e8kodxskR",
        "outputId": "076da8f5-342d-4b90-effe-279fd66080e9"
      },
      "execution_count": null,
      "outputs": [
        {
          "output_type": "stream",
          "name": "stdout",
          "text": [
            "yza\n"
          ]
        }
      ]
    },
    {
      "cell_type": "code",
      "source": [
        "#task 24\n",
        "def nestParn(s):\n",
        "    if len(s)==0 :\n",
        "\n",
        "        return True\n",
        "    elif len(s)==1  :\n",
        "        return False\n",
        "    elif s[0]==\"(\" and s[len(s)-1]==\")\":\n",
        "        return nestParn(s[1:len(s)-1])\n",
        "\n",
        "    else:\n",
        "        return False\n",
        "\n",
        "print(nestParn(\"(((x))\"))"
      ],
      "metadata": {
        "colab": {
          "base_uri": "https://localhost:8080/"
        },
        "id": "pC2GJ7-G09vO",
        "outputId": "8935f892-3ec9-4735-ecfc-9ec6febb7fd8"
      },
      "execution_count": null,
      "outputs": [
        {
          "output_type": "stream",
          "name": "stdout",
          "text": [
            "False\n"
          ]
        }
      ]
    },
    {
      "cell_type": "code",
      "source": [
        "#printing allsub string\n",
        "def subs(s, ans=\"\"):\n",
        "    if s==\"\":\n",
        "\n",
        "        print(ans)\n",
        "        return\n",
        "    ch=s[0]\n",
        "    ros=s[1:]\n",
        "\n",
        "    subs( ros, ans )\n",
        "    subs( ros , ans+ch)\n",
        "\n",
        "subs(\"abc\")"
      ],
      "metadata": {
        "id": "-JI45XCc1axZ",
        "colab": {
          "base_uri": "https://localhost:8080/"
        },
        "outputId": "7550973a-a5ae-42ed-b770-2c1ed6b58369"
      },
      "execution_count": null,
      "outputs": [
        {
          "output_type": "stream",
          "name": "stdout",
          "text": [
            "\n",
            "c\n",
            "b\n",
            "bc\n",
            "a\n",
            "ac\n",
            "ab\n",
            "abc\n"
          ]
        }
      ]
    },
    {
      "cell_type": "code",
      "source": [
        "#Run this cell\n",
        "class Node:\n",
        "  def __init__(self,elem,next = None):\n",
        "    self.elem,self.next = elem,next\n",
        "\n",
        "def createList(arr):\n",
        "  head = Node(arr[0])\n",
        "  tail = head\n",
        "  for i in range(1,len(arr)):\n",
        "    newNode = Node(arr[i])\n",
        "    tail.next = newNode\n",
        "    tail = newNode\n",
        "  return head\n",
        "\n",
        "def printLinkedList(head):\n",
        "  temp = head\n",
        "  while temp != None:\n",
        "    if temp.next != None:\n",
        "      print(temp.elem, end = '-->')\n",
        "    else:\n",
        "      print(temp.elem)\n",
        "    temp = temp.next\n",
        "  print()"
      ],
      "metadata": {
        "id": "fVWzDJOc_Fza"
      },
      "execution_count": null,
      "outputs": []
    },
    {
      "cell_type": "code",
      "source": [
        "#reverse a linked list\n",
        "def reverse(head, prev=None):\n",
        "    if head==None:\n",
        "        return prev\n",
        "    x=reverse(head.next,head )\n",
        "    head.next = prev\n",
        "    return x\n",
        "\n",
        "\n",
        "lin = createList([1,2,3,4,5])\n",
        "printLinkedList(lin)\n",
        "lin=reverse(lin)\n",
        "printLinkedList(lin)\n"
      ],
      "metadata": {
        "colab": {
          "base_uri": "https://localhost:8080/"
        },
        "id": "A1sVzHAe4mlc",
        "outputId": "88e57b3d-520e-4b56-f8d3-b30df7f22fa5"
      },
      "execution_count": null,
      "outputs": [
        {
          "output_type": "stream",
          "name": "stdout",
          "text": [
            "1-->2-->3-->4-->5\n",
            "\n",
            "5-->4-->3-->2-->1\n",
            "\n"
          ]
        }
      ]
    },
    {
      "cell_type": "code",
      "source": [],
      "metadata": {
        "id": "EO0g8X-MBQ3f"
      },
      "execution_count": null,
      "outputs": []
    }
  ]
}