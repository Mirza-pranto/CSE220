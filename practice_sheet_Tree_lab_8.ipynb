{
  "nbformat": 4,
  "nbformat_minor": 0,
  "metadata": {
    "colab": {
      "provenance": []
    },
    "kernelspec": {
      "name": "python3",
      "display_name": "Python 3"
    },
    "language_info": {
      "name": "python"
    }
  },
  "cells": [
    {
      "cell_type": "code",
      "execution_count": null,
      "metadata": {
        "id": "_eBOCl6BOQAf"
      },
      "outputs": [],
      "source": [
        "class BTNode:\n",
        "  def __init__(self, elem):\n",
        "    self.elem = elem\n",
        "    self.right = None\n",
        "    self.left = None"
      ]
    },
    {
      "cell_type": "code",
      "source": [
        "def inorder(root):\n",
        "  if root == None:\n",
        "    return\n",
        "\n",
        "  inorder(root.left)\n",
        "  print(root.elem, end = ' ')\n",
        "  inorder(root.right)"
      ],
      "metadata": {
        "id": "mwtxp2kEOjrc"
      },
      "execution_count": null,
      "outputs": []
    },
    {
      "cell_type": "code",
      "source": [
        "def preorder(root):\n",
        "  if root == None:\n",
        "    return\n",
        "  print(root.elem, end = ' ')\n",
        "  inorder(root.left)\n",
        "\n",
        "  inorder(root.right)"
      ],
      "metadata": {
        "id": "CQYZTuFdkiLU"
      },
      "execution_count": null,
      "outputs": []
    },
    {
      "cell_type": "code",
      "source": [
        "def tree_construction(arr, i = 1):\n",
        "  if i>=len(arr) or arr[i] == None:\n",
        "    return None\n",
        "  p = BTNode(arr[i])\n",
        "  p.left = tree_construction(arr, 2*i)\n",
        "  p.right = tree_construction(arr, 2*i+1)\n",
        "  return p\n",
        "\n",
        "\n",
        "root2 = tree_construction([None, 'A', 'B', 'C', 'D', 'E', 'F', 'G', 'H', None, None, None, 'I', 'J', None, 'k'])\n",
        "inorder(root2)"
      ],
      "metadata": {
        "colab": {
          "base_uri": "https://localhost:8080/"
        },
        "id": "F9dXhdSMOq8l",
        "outputId": "8f4e5f69-7fff-40c0-dff9-7e643f4e8912"
      },
      "execution_count": null,
      "outputs": [
        {
          "output_type": "stream",
          "name": "stdout",
          "text": [
            "H D B E A I F J C G k "
          ]
        }
      ]
    },
    {
      "cell_type": "code",
      "source": [
        "#task 1\n",
        "def identical (root1, root2):\n",
        "    tree1=string(root1)\n",
        "    tree2=string(root2)\n",
        "\n",
        "\n",
        "    if tree2 == tree1:\n",
        "        print(\"True\")\n",
        "\n",
        "    else:\n",
        "        print(\"False\")\n",
        "\n",
        "\n",
        "\n",
        "def string(root):\n",
        "    if root == None:\n",
        "        return \"\"\n",
        "    else:\n",
        "\n",
        "        return str(root.elem)+\" \"+str(string(root.left))+str(string(root.right))\n",
        "\n",
        "\n",
        "\n",
        "root1 = BTNode(10)\n",
        "n1 = BTNode(20)\n",
        "n2 = BTNode(30)\n",
        "n3 = BTNode(40)\n",
        "n4 = BTNode(60)\n",
        "\n",
        "root1.left = n1\n",
        "root1.right = n2\n",
        "\n",
        "n1.left = n3\n",
        "n1.right = n4\n",
        "\n",
        "root2 = BTNode(10)\n",
        "n10 = BTNode(20)\n",
        "n20 = BTNode(30)\n",
        "n30 = BTNode(40)\n",
        "n40 = BTNode(60)\n",
        "\n",
        "root2.left = n10\n",
        "root2.right = n20\n",
        "\n",
        "n10.left = n30\n",
        "n10.right = n40\n",
        "\n",
        "\n",
        "print(string(root1)+\"a\")\n",
        "print(string(root2)+\"a\") #Given Tree Inorder Traversal:  40 20 60 10 30\n",
        "identical(root1,root2)"
      ],
      "metadata": {
        "colab": {
          "base_uri": "https://localhost:8080/"
        },
        "id": "_yebMfwyPBhY",
        "outputId": "fd281e60-f1f4-4416-fecc-2bf52cfc5ee0"
      },
      "execution_count": null,
      "outputs": [
        {
          "output_type": "stream",
          "name": "stdout",
          "text": [
            "10 20 40 60 30 a\n",
            "10 20 40 60 30 a\n",
            "True\n"
          ]
        }
      ]
    },
    {
      "cell_type": "code",
      "source": [
        "def smallest_level(root,lvl = 0,book= {}):\n",
        "  if root== None:\n",
        "    return book\n",
        "  else:\n",
        "    if lvl not in book.keys():\n",
        "        book[lvl]=root.elem\n",
        "\n",
        "    elif lvl in book.keys():\n",
        "        if root.elem < book[lvl]:\n",
        "            book[lvl] = root.elem\n",
        "\n",
        "    smallest_level(root.left, lvl+1, book)\n",
        "    smallest_level(root.right, lvl+1, book)\n",
        "    return book\n",
        "\n",
        "\n",
        "\n",
        "  return None\n",
        "\n",
        "#DRIVER CODE\n",
        "root = tree_construction([None, 4,9,2,3,-5,None,7])\n",
        "print('Given Tree Inorder Traversal: ', end = ' ')\n",
        "inorder(root) #Given Tree Inorder Traversal:  3 9 -5 4 2 7\n",
        "print()\n",
        "print('Level Wise Smallest Value: ', end = ' ')\n",
        "print(smallest_level(root)) #Level Wise Smallest Value:  {0: 4, 1: 2, 2: -5}"
      ],
      "metadata": {
        "id": "z2yL0vwQZevs"
      },
      "execution_count": null,
      "outputs": []
    },
    {
      "cell_type": "code",
      "source": [
        "#task 2\n",
        "\n",
        "#from bottom to top mirroring process\n",
        "def convert_mirror(root):\n",
        "  if root == None:\n",
        "    return None\n",
        "  else:\n",
        "    convert_mirror(root.left)\n",
        "    convert_mirror(root.right)\n",
        "    root.left, root.right = root.right , root.left\n",
        "  return root\n",
        "\n",
        "\n",
        "#DRIVER CODE\n",
        "root = BTNode(10)\n",
        "n1 = BTNode(20)\n",
        "n2 = BTNode(30)\n",
        "n3 = BTNode(40)\n",
        "n4 = BTNode(60)\n",
        "\n",
        "root.left = n1\n",
        "root.right = n2\n",
        "\n",
        "n1.left = n3\n",
        "n1.right = n4\n",
        "\n",
        "print('Given Tree Inorder Traversal: ', end = ' ')\n",
        "inorder(root) #Given Tree Inorder Traversal:  40 20 60 10 30\n",
        "print()\n",
        "\n",
        "root2 = convert_mirror(root)\n",
        "print('Mirrored Tree Inorder Traversal: ', end = ' ')\n",
        "inorder(root2) #Mirrored Tree Inorder Traversal:  30 10 60 20 40"
      ],
      "metadata": {
        "id": "761iYpuPOu8s"
      },
      "execution_count": null,
      "outputs": []
    },
    {
      "cell_type": "code",
      "source": [],
      "metadata": {
        "id": "QaANwgrIfKLH"
      },
      "execution_count": null,
      "outputs": []
    },
    {
      "cell_type": "code",
      "source": [
        "#task 5\n",
        "def max_level(root,lvl = 0,book= {}):\n",
        "  if root== None:\n",
        "    return book\n",
        "  else:\n",
        "    if lvl not in book.keys():\n",
        "        book[lvl]=root.elem\n",
        "\n",
        "    elif lvl in book.keys():\n",
        "        if root.elem > book[lvl]:\n",
        "            book[lvl] = root.elem\n",
        "\n",
        "    max_level(root.left, lvl+1, book)\n",
        "    max_level(root.right, lvl+1, book)\n",
        "    return book\n",
        "\n",
        "\n",
        "\n",
        "  return None\n",
        "\n",
        "#DRIVER CODE\n",
        "root = tree_construction([None, 4,9,2,3,-5,None,7])\n",
        "print('Given Tree Inorder Traversal: ', end = ' ')\n",
        "inorder(root) #Given Tree Inorder Traversal:  3 9 -5 4 2 7\n",
        "print()\n",
        "print('Level Wise Smallest Value: ', end = ' ')\n",
        "print(max_level(root)) #Level Wise Smallest Value:  {0: 4, 1: 2, 2: -5}\n"
      ],
      "metadata": {
        "colab": {
          "base_uri": "https://localhost:8080/"
        },
        "id": "alDnKKZ3Svkh",
        "outputId": "a989ddd0-86dc-426c-8724-9c9d3113a80e"
      },
      "execution_count": null,
      "outputs": [
        {
          "output_type": "stream",
          "name": "stdout",
          "text": [
            "Given Tree Inorder Traversal:  3 9 -5 4 2 7 \n",
            "Level Wise Smallest Value:  {0: 4, 1: 9, 2: 7}\n"
          ]
        }
      ]
    },
    {
      "cell_type": "code",
      "source": [
        "#task 6\n",
        "def duplicate(root,book={}):\n",
        "    if root==None:\n",
        "        return False\n",
        "    elif root.elem not in book:\n",
        "            book[root.elem]=0\n",
        "            return duplicate(root.left) or duplicate(root.right)\n",
        "    else:\n",
        "         return True\n",
        "root1 = BTNode(10)\n",
        "n1 = BTNode(20)\n",
        "n2 = BTNode(30)\n",
        "n3 = BTNode(780)\n",
        "n4 = BTNode(60)\n",
        "\n",
        "root1.left = n1\n",
        "root1.right = n2\n",
        "\n",
        "n1.left = n3\n",
        "n1.right = n4\n",
        "duplicate(root1)\n",
        "\n",
        "\n",
        "\n"
      ],
      "metadata": {
        "colab": {
          "base_uri": "https://localhost:8080/"
        },
        "id": "bsYqUrDFXo_q",
        "outputId": "8ee43b90-39ef-4350-eb3a-60737bf98e0a"
      },
      "execution_count": null,
      "outputs": [
        {
          "output_type": "execute_result",
          "data": {
            "text/plain": [
              "False"
            ]
          },
          "metadata": {},
          "execution_count": 53
        }
      ]
    },
    {
      "cell_type": "code",
      "source": [
        "#task 7\n",
        "def edge(root, k,lvl=0):\n",
        "    if root== None:\n",
        "        return None\n",
        "    else:\n",
        "        edge(root.left, k , lvl+1)\n",
        "        edge(root.right , k , lvl+1)\n",
        "        if lvl==k:\n",
        "            print(root.elem)\n",
        "\n",
        "root1 = BTNode(10)\n",
        "n1 = BTNode(20)\n",
        "n2 = BTNode(30)\n",
        "n3 = BTNode(40)\n",
        "n4 = BTNode(60)\n",
        "\n",
        "root1.left = n1\n",
        "root1.right = n2\n",
        "\n",
        "n1.left = n3\n",
        "n1.right = n4\n",
        "\n",
        "edge(root1, 2)"
      ],
      "metadata": {
        "colab": {
          "base_uri": "https://localhost:8080/"
        },
        "id": "a13WNKW_bOnC",
        "outputId": "85999c4f-d14c-4a0e-8556-c4333b221c97"
      },
      "execution_count": null,
      "outputs": [
        {
          "output_type": "stream",
          "name": "stdout",
          "text": [
            "40\n",
            "60\n"
          ]
        }
      ]
    },
    {
      "cell_type": "code",
      "source": [
        "#task 8\n",
        "#can't identifiy the node which has one child\n",
        "def oneChild(root):\n",
        "    if root == None:\n",
        "        return False\n",
        "    elif root.left!=None and root.right==None:\n",
        "        return True\n",
        "    elif root.right!= None and root.left==None:\n",
        "        return True\n",
        "    return oneChild(root.left) or oneChild(root.right)\n",
        "root1 = BTNode(10)\n",
        "n1 = BTNode(20)\n",
        "n2 = BTNode(30)\n",
        "n3 = BTNode(40)\n",
        "n4 = BTNode(60)\n",
        "\n",
        "root1.left = n1\n",
        "root1.right = n2\n",
        "\n",
        "n1.left = n3\n",
        "n1.right = n4\n",
        "\n",
        "\n",
        "\n",
        "print(oneChild(root1)) #no one child\n",
        "\n",
        "root1 = BTNode(10)\n",
        "n1 = BTNode(20)\n",
        "n2 = BTNode(30)\n",
        "n3 = BTNode(40)\n",
        "n4 = BTNode(60)\n",
        "\n",
        "n5=BTNode(50)\n",
        "\n",
        "root1.left = n1\n",
        "root1.right = n2\n",
        "\n",
        "n1.left = n3\n",
        "n1.right = n4\n",
        "\n",
        "n2.right=50\n",
        "\n",
        "print(oneChild(root1)) #has one child n5 of n4"
      ],
      "metadata": {
        "colab": {
          "base_uri": "https://localhost:8080/"
        },
        "id": "24LgxGgkeCam",
        "outputId": "4869052e-203c-4017-f365-1ef5d4dc96c9"
      },
      "execution_count": null,
      "outputs": [
        {
          "output_type": "stream",
          "name": "stdout",
          "text": [
            "False\n",
            "True\n"
          ]
        }
      ]
    },
    {
      "cell_type": "code",
      "source": [
        "#task 8\n",
        "#can't identifiy the node which has one child\n",
        "def oneChild(root,k=-1):\n",
        "    if root == None:\n",
        "        return None\n",
        "    elif root.left!=None and root.right==None:\n",
        "        print(root.elem, end=\" \")\n",
        "        k=root.elem\n",
        "\n",
        "    elif root.right!= None and root.left==None:\n",
        "        print(root.elem, end=\" \")\n",
        "        k=root.elem\n",
        "    if len(k)!=0:\n",
        "        print(k)\n",
        "    oneChild(root.left,k)\n",
        "    oneChild(root.right,k)\n",
        "\n",
        "root1 = BTNode(10)\n",
        "n1 = BTNode(20)\n",
        "n2 = BTNode(30)\n",
        "n3 = BTNode(40)\n",
        "n4 = BTNode(60)\n",
        "\n",
        "root1.left = n1\n",
        "root1.right = n2\n",
        "\n",
        "n1.left = n3\n",
        "n1.right = n4\n",
        "\n",
        "\n",
        "\n",
        "print(oneChild(root1)) #no one child\n",
        "\n",
        "root1 = BTNode(10)\n",
        "n1 = BTNode(20)\n",
        "n2 = BTNode(30)\n",
        "n3 = BTNode(40)\n",
        "n4 = BTNode(60)\n",
        "\n",
        "n5=BTNode(50)\n",
        "\n",
        "root1.left = n1\n",
        "root1.right = n2\n",
        "\n",
        "n1.left = n3\n",
        "n1.right = n4\n",
        "\n",
        "n2.right=50\n",
        "\n",
        "print(oneChild(root1)) #has one child n5 of n4"
      ],
      "metadata": {
        "colab": {
          "base_uri": "https://localhost:8080/",
          "height": 373
        },
        "id": "SUwMjJBxhhyO",
        "outputId": "ff3f4706-9963-478e-8a19-9609b5106999"
      },
      "execution_count": null,
      "outputs": [
        {
          "output_type": "stream",
          "name": "stdout",
          "text": [
            "None\n"
          ]
        },
        {
          "output_type": "error",
          "ename": "TypeError",
          "evalue": "ignored",
          "traceback": [
            "\u001b[0;31m---------------------------------------------------------------------------\u001b[0m",
            "\u001b[0;31mTypeError\u001b[0m                                 Traceback (most recent call last)",
            "\u001b[0;32m<ipython-input-62-25fecae18f18>\u001b[0m in \u001b[0;36m<cell line: 48>\u001b[0;34m()\u001b[0m\n\u001b[1;32m     46\u001b[0m \u001b[0mn2\u001b[0m\u001b[0;34m.\u001b[0m\u001b[0mright\u001b[0m\u001b[0;34m=\u001b[0m\u001b[0;36m50\u001b[0m\u001b[0;34m\u001b[0m\u001b[0;34m\u001b[0m\u001b[0m\n\u001b[1;32m     47\u001b[0m \u001b[0;34m\u001b[0m\u001b[0m\n\u001b[0;32m---> 48\u001b[0;31m \u001b[0mprint\u001b[0m\u001b[0;34m(\u001b[0m\u001b[0moneChild\u001b[0m\u001b[0;34m(\u001b[0m\u001b[0mroot1\u001b[0m\u001b[0;34m)\u001b[0m\u001b[0;34m)\u001b[0m \u001b[0;31m#has one child n5 of n4\u001b[0m\u001b[0;34m\u001b[0m\u001b[0;34m\u001b[0m\u001b[0m\n\u001b[0m",
            "\u001b[0;32m<ipython-input-62-25fecae18f18>\u001b[0m in \u001b[0;36moneChild\u001b[0;34m(root, k)\u001b[0m\n\u001b[1;32m     12\u001b[0m         \u001b[0mprint\u001b[0m\u001b[0;34m(\u001b[0m\u001b[0mk\u001b[0m\u001b[0;34m)\u001b[0m\u001b[0;34m\u001b[0m\u001b[0;34m\u001b[0m\u001b[0m\n\u001b[1;32m     13\u001b[0m     \u001b[0moneChild\u001b[0m\u001b[0;34m(\u001b[0m\u001b[0mroot\u001b[0m\u001b[0;34m.\u001b[0m\u001b[0mleft\u001b[0m\u001b[0;34m,\u001b[0m\u001b[0mk\u001b[0m\u001b[0;34m)\u001b[0m\u001b[0;34m\u001b[0m\u001b[0;34m\u001b[0m\u001b[0m\n\u001b[0;32m---> 14\u001b[0;31m     \u001b[0moneChild\u001b[0m\u001b[0;34m(\u001b[0m\u001b[0mroot\u001b[0m\u001b[0;34m.\u001b[0m\u001b[0mright\u001b[0m\u001b[0;34m,\u001b[0m\u001b[0mk\u001b[0m\u001b[0;34m)\u001b[0m\u001b[0;34m\u001b[0m\u001b[0;34m\u001b[0m\u001b[0m\n\u001b[0m\u001b[1;32m     15\u001b[0m \u001b[0;34m\u001b[0m\u001b[0m\n\u001b[1;32m     16\u001b[0m \u001b[0mroot1\u001b[0m \u001b[0;34m=\u001b[0m \u001b[0mBTNode\u001b[0m\u001b[0;34m(\u001b[0m\u001b[0;36m10\u001b[0m\u001b[0;34m)\u001b[0m\u001b[0;34m\u001b[0m\u001b[0;34m\u001b[0m\u001b[0m\n",
            "\u001b[0;32m<ipython-input-62-25fecae18f18>\u001b[0m in \u001b[0;36moneChild\u001b[0;34m(root, k)\u001b[0m\n\u001b[1;32m      8\u001b[0m         \u001b[0;32mreturn\u001b[0m \u001b[0;32mTrue\u001b[0m\u001b[0;34m\u001b[0m\u001b[0;34m\u001b[0m\u001b[0m\n\u001b[1;32m      9\u001b[0m     \u001b[0;32melif\u001b[0m \u001b[0mroot\u001b[0m\u001b[0;34m.\u001b[0m\u001b[0mright\u001b[0m\u001b[0;34m!=\u001b[0m \u001b[0;32mNone\u001b[0m \u001b[0;32mand\u001b[0m \u001b[0mroot\u001b[0m\u001b[0;34m.\u001b[0m\u001b[0mleft\u001b[0m\u001b[0;34m==\u001b[0m\u001b[0;32mNone\u001b[0m\u001b[0;34m:\u001b[0m\u001b[0;34m\u001b[0m\u001b[0;34m\u001b[0m\u001b[0m\n\u001b[0;32m---> 10\u001b[0;31m         \u001b[0mk\u001b[0m\u001b[0;34m+=\u001b[0m\u001b[0mstr\u001b[0m\u001b[0;34m(\u001b[0m\u001b[0mroot\u001b[0m\u001b[0;34m.\u001b[0m\u001b[0melem\u001b[0m\u001b[0;34m,\u001b[0m\u001b[0mend\u001b[0m\u001b[0;34m=\u001b[0m\u001b[0;34m\" \"\u001b[0m\u001b[0;34m)\u001b[0m\u001b[0;34m\u001b[0m\u001b[0;34m\u001b[0m\u001b[0m\n\u001b[0m\u001b[1;32m     11\u001b[0m     \u001b[0;32mif\u001b[0m \u001b[0mlen\u001b[0m\u001b[0;34m(\u001b[0m\u001b[0mk\u001b[0m\u001b[0;34m)\u001b[0m\u001b[0;34m!=\u001b[0m\u001b[0;36m0\u001b[0m\u001b[0;34m:\u001b[0m\u001b[0;34m\u001b[0m\u001b[0;34m\u001b[0m\u001b[0m\n\u001b[1;32m     12\u001b[0m         \u001b[0mprint\u001b[0m\u001b[0;34m(\u001b[0m\u001b[0mk\u001b[0m\u001b[0;34m)\u001b[0m\u001b[0;34m\u001b[0m\u001b[0;34m\u001b[0m\u001b[0m\n",
            "\u001b[0;31mTypeError\u001b[0m: 'end' is an invalid keyword argument for str()"
          ]
        }
      ]
    },
    {
      "cell_type": "code",
      "source": [
        "#task 10\n",
        "def skewed(root):\n",
        "    if toChild(root):\n",
        "        print(\"NO\")\n",
        "    else:\n",
        "        print(\"Yes\")\n",
        "\n",
        "\n",
        "\n",
        "def toChild(root):\n",
        "    if root == None:\n",
        "        return False\n",
        "    elif root.left!=None and root.right!=None:\n",
        "        return True\n",
        "    return toChild(root.left) or toChild(root.right)\n",
        "root1 = BTNode(10)\n",
        "n1 = BTNode(20)\n",
        "n2 = BTNode(30)\n",
        "n3 = BTNode(40)\n",
        "n4 = BTNode(60)\n",
        "\n",
        "root1.left = n1\n",
        "n1.right = n2\n",
        "\n",
        "n2.left = n3\n",
        "n3.right = n4\n",
        "\n",
        "\n",
        "skewed(root1)#there is no 2 child of a node\n",
        "\n",
        "root1 = BTNode(10)\n",
        "n1 = BTNode(20)\n",
        "n2 = BTNode(30)\n",
        "n3 = BTNode(40)\n",
        "n4 = BTNode(60)\n",
        "\n",
        "root1.left = n1\n",
        "n1.right = n2\n",
        "\n",
        "n2.left = n3\n",
        "n2.right = n4\n",
        "\n",
        "\n",
        "skewed(root1)#node n2 has 2 children\n",
        "\n"
      ],
      "metadata": {
        "colab": {
          "base_uri": "https://localhost:8080/"
        },
        "id": "17UyYGAJhh3e",
        "outputId": "3867b5fd-4f2d-424e-c0db-5335fab2de8a"
      },
      "execution_count": null,
      "outputs": [
        {
          "output_type": "stream",
          "name": "stdout",
          "text": [
            "Yes\n",
            "NO\n"
          ]
        }
      ]
    },
    {
      "cell_type": "code",
      "source": [
        "#task 12\n",
        "def toChild(root):\n",
        "    if root == None:\n",
        "        return\n",
        "    elif root.left!=None and root.right!=None:\n",
        "        print(root.elem)\n",
        "\n",
        "    toChild(root.left)\n",
        "    toChild(root.right)\n",
        "\n",
        "\n",
        "root1 = BTNode(10)\n",
        "n1 = BTNode(20)\n",
        "n2 = BTNode(30)\n",
        "n3 = BTNode(40)\n",
        "n4 = BTNode(60)\n",
        "\n",
        "root1.left = n1\n",
        "root1.right = n2\n",
        "\n",
        "n2.left = n3\n",
        "n2.right = n4\n",
        "\n",
        "\n",
        "toChild(root1)#node root and n2 has 2 children\n"
      ],
      "metadata": {
        "colab": {
          "base_uri": "https://localhost:8080/"
        },
        "id": "CIDtMFJVmDmS",
        "outputId": "d29098d6-c3c9-4955-b02f-d1af4402ccb5"
      },
      "execution_count": null,
      "outputs": [
        {
          "output_type": "stream",
          "name": "stdout",
          "text": [
            "10\n",
            "30\n"
          ]
        }
      ]
    },
    {
      "cell_type": "code",
      "source": [],
      "metadata": {
        "id": "64XMn0YvmhdO"
      },
      "execution_count": null,
      "outputs": []
    },
    {
      "cell_type": "code",
      "source": [
        "def fo(num):\n",
        "    if num<6:\n",
        "        print(num)\n",
        "        fo(num+1)\n",
        "\n",
        "\n",
        "fo(1)\n"
      ],
      "metadata": {
        "colab": {
          "base_uri": "https://localhost:8080/"
        },
        "id": "SSc0NyqLfMnK",
        "outputId": "5de94520-b716-4b8c-fbbb-9908c1cf7be0"
      },
      "execution_count": null,
      "outputs": [
        {
          "output_type": "stream",
          "name": "stdout",
          "text": [
            "1\n",
            "2\n",
            "3\n",
            "4\n",
            "5\n"
          ]
        }
      ]
    },
    {
      "cell_type": "markdown",
      "source": [
        "Binary search tree"
      ],
      "metadata": {
        "id": "15Lu9NVon4jC"
      }
    },
    {
      "cell_type": "code",
      "source": [
        "#task 1\n",
        "#not completed***************************\n",
        "def isBinary(root):\n",
        "    if root ==None:\n",
        "        return True\n",
        "    left=isBinary(root.left)\n",
        "    right= isBinary(root.right)\n",
        "    return left<root.elem or right>root.elem\n",
        "#not binary tree\n",
        "root1 = BTNode(10)\n",
        "n1 = BTNode(20)\n",
        "n2 = BTNode(30)\n",
        "n3 = BTNode(40)\n",
        "n4 = BTNode(60)\n",
        "\n",
        "root1.left = n1\n",
        "root1.right = n2\n",
        "\n",
        "n2.left = n3\n",
        "n2.right = n4\n",
        "\n",
        "\n",
        "print(isBinary(root1) )\n",
        "\n",
        "\n",
        "#binary tree\n",
        "root1 = BTNode(60)\n",
        "n1 = BTNode(20)\n",
        "n2 = BTNode(30)\n",
        "n3 = BTNode(70)\n",
        "n4 = BTNode(80)\n",
        "\n",
        "root1.left = n1\n",
        "root1.right = n3\n",
        "\n",
        "n1.right=n2\n",
        "\n",
        "n3.right=n4\n",
        "\n",
        "\n",
        "print(isBinary(root1))\n"
      ],
      "metadata": {
        "colab": {
          "base_uri": "https://localhost:8080/"
        },
        "id": "nY7HZ5eFn81Y",
        "outputId": "0863de2d-27ed-4f8d-fab8-be3e93e2761c"
      },
      "execution_count": null,
      "outputs": [
        {
          "output_type": "stream",
          "name": "stdout",
          "text": [
            "True\n",
            "True\n"
          ]
        }
      ]
    },
    {
      "cell_type": "code",
      "source": [
        "#task 2\n",
        "def makeBST(arr,start, end):\n",
        "\n",
        "    if start>end:\n",
        "        return None\n",
        "    mid=(start+end)//2\n",
        "    root=BTNode(arr[mid])\n",
        "    root.left= makeBST(arr,start, mid-1)\n",
        "    root.right= makeBST(arr,mid+1, end)\n",
        "    return root\n",
        "\n",
        "\n",
        "arr=[1,2,3,4,5,6,7]\n",
        "\n",
        "bst=makeBST(arr,0,len(arr)-1)\n",
        "inorder(bst)\n",
        "print()\n",
        "preorder(bst)\n",
        "\n"
      ],
      "metadata": {
        "colab": {
          "base_uri": "https://localhost:8080/"
        },
        "id": "fQ5-wK3gqvX8",
        "outputId": "cf0e2656-5f7e-4090-cff7-de95cb510744"
      },
      "execution_count": null,
      "outputs": [
        {
          "output_type": "stream",
          "name": "stdout",
          "text": [
            "1 2 3 4 5 6 7 \n",
            "4 1 2 3 5 6 7 "
          ]
        }
      ]
    },
    {
      "cell_type": "code",
      "source": [
        "#task 3\n",
        "def move_left(root):\n",
        "    if root.left == None:\n",
        "        return root\n",
        "    else:\n",
        "        return move_left(root.left)\n",
        "\n",
        "def search(root, k):\n",
        "    if root==None:\n",
        "        return None\n",
        "    elif root.elem==k:\n",
        "        return move_left(root.right)\n",
        "\n",
        "    search(root.left, k)\n",
        "    search(root.right, k)\n",
        "\n"
      ],
      "metadata": {
        "id": "NqTs_uObuZSK"
      },
      "execution_count": null,
      "outputs": []
    },
    {
      "cell_type": "code",
      "source": [
        "def move_left(root):\n",
        "    if root.left is None:\n",
        "        return root\n",
        "    else:\n",
        "        return move_left(root.left)\n",
        "\n",
        "def search(root, k):\n",
        "    if root is None:\n",
        "        return None\n",
        "    elif root.elem == k:\n",
        "        return move_left(root.right)\n",
        "    search(root.left, k)\n",
        "    search(root.right, k)"
      ],
      "metadata": {
        "id": "HBjpHCz88HDw"
      },
      "execution_count": null,
      "outputs": []
    }
  ]
}