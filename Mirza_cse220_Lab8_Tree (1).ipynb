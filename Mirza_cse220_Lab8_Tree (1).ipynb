{
  "cells": [
    {
      "cell_type": "code",
      "execution_count": null,
      "metadata": {
        "id": "D6vC520OPeTa"
      },
      "outputs": [],
      "source": [
        "class BTNode:\n",
        "  def __init__(self, elem):\n",
        "    self.elem = elem\n",
        "    self.right = None\n",
        "    self.left = None"
      ]
    },
    {
      "cell_type": "code",
      "execution_count": null,
      "metadata": {
        "id": "UDTKlm4-PfNM"
      },
      "outputs": [],
      "source": [
        "def inorder(root):\n",
        "  if root == None:\n",
        "    return\n",
        "\n",
        "  inorder(root.left)\n",
        "  print(root.elem, end = ' ')\n",
        "  inorder(root.right)"
      ]
    },
    {
      "cell_type": "code",
      "execution_count": null,
      "metadata": {
        "colab": {
          "base_uri": "https://localhost:8080/"
        },
        "id": "Rtc22SPzPgzM",
        "outputId": "db8ffa24-3f90-4531-b79a-018c69f228d3"
      },
      "outputs": [
        {
          "output_type": "stream",
          "name": "stdout",
          "text": [
            "H D B E A I F J C G k "
          ]
        }
      ],
      "source": [
        "def tree_construction(arr, i = 1):\n",
        "  if i>=len(arr) or arr[i] == None:\n",
        "    return None\n",
        "  p = BTNode(arr[i])\n",
        "  p.left = tree_construction(arr, 2*i)\n",
        "  p.right = tree_construction(arr, 2*i+1)\n",
        "  return p\n",
        "\n",
        "\n",
        "root2 = tree_construction([None, 'A', 'B', 'C', 'D', 'E', 'F', 'G', 'H', None, None, None, 'I', 'J', None, 'k'])\n",
        "inorder(root2)"
      ]
    },
    {
      "cell_type": "markdown",
      "metadata": {
        "id": "S2nNCJNhPqGq"
      },
      "source": [
        "Task 1"
      ]
    },
    {
      "cell_type": "code",
      "execution_count": null,
      "metadata": {
        "id": "zbBHU3FoPieb",
        "colab": {
          "base_uri": "https://localhost:8080/"
        },
        "outputId": "73ec253f-7e09-4e11-907f-a91af11e06b0"
      },
      "outputs": [
        {
          "output_type": "stream",
          "name": "stdout",
          "text": [
            "Given Tree Inorder Traversal:  40 20 60 10 30 \n",
            "Mirrored Tree Inorder Traversal:  30 10 60 20 40 "
          ]
        }
      ],
      "source": [
        "#from bottom to top mirroring process\n",
        "def convert_mirror(root):\n",
        "  if root == None:\n",
        "    return None\n",
        "  else:\n",
        "    convert_mirror(root.left)\n",
        "    convert_mirror(root.right)\n",
        "    root.left, root.right = root.right , root.left\n",
        "  return root\n",
        "\n",
        "\n",
        "#DRIVER CODE\n",
        "root = BTNode(10)\n",
        "n1 = BTNode(20)\n",
        "n2 = BTNode(30)\n",
        "n3 = BTNode(40)\n",
        "n4 = BTNode(60)\n",
        "\n",
        "root.left = n1\n",
        "root.right = n2\n",
        "\n",
        "n1.left = n3\n",
        "n1.right = n4\n",
        "\n",
        "print('Given Tree Inorder Traversal: ', end = ' ')\n",
        "inorder(root) #Given Tree Inorder Traversal:  40 20 60 10 30\n",
        "print()\n",
        "\n",
        "root2 = convert_mirror(root)\n",
        "print('Mirrored Tree Inorder Traversal: ', end = ' ')\n",
        "inorder(root2) #Mirrored Tree Inorder Traversal:  30 10 60 20 40"
      ]
    },
    {
      "cell_type": "code",
      "source": [
        "#from top to bottom mirroring process\n",
        "def convert_mirror(root):\n",
        "\n",
        "  if root == None:\n",
        "    return None\n",
        "  else:\n",
        "    root.left, root.right = root.right , root.left\n",
        "    convert_mirror(root.left)\n",
        "    convert_mirror(root.right)\n",
        "\n",
        "  return root\n",
        "\n",
        "\n",
        "#DRIVER CODE\n",
        "root = BTNode(10)\n",
        "n1 = BTNode(20)\n",
        "n2 = BTNode(30)\n",
        "n3 = BTNode(40)\n",
        "n4 = BTNode(60)\n",
        "\n",
        "root.left = n1\n",
        "root.right = n2\n",
        "\n",
        "n1.left = n3\n",
        "n1.right = n4\n",
        "\n",
        "print('Given Tree Inorder Traversal: ', end = ' ')\n",
        "inorder(root) #Given Tree Inorder Traversal:  40 20 60 10 30\n",
        "print()\n",
        "\n",
        "root2 = convert_mirror(root)\n",
        "print('Mirrored Tree Inorder Traversal: ', end = ' ')\n",
        "inorder(root2) #Mirrored Tree Inorder Traversal:  30 10 60 20 40"
      ],
      "metadata": {
        "colab": {
          "base_uri": "https://localhost:8080/"
        },
        "id": "lBGortA_CswT",
        "outputId": "d9169bde-71e9-4800-b858-442da303bc3a"
      },
      "execution_count": null,
      "outputs": [
        {
          "output_type": "stream",
          "name": "stdout",
          "text": [
            "Given Tree Inorder Traversal:  40 20 60 10 30 \n",
            "Mirrored Tree Inorder Traversal:  30 10 60 20 40 "
          ]
        }
      ]
    },
    {
      "cell_type": "markdown",
      "metadata": {
        "id": "c-TBf3m0PrtK"
      },
      "source": [
        "Task 2"
      ]
    },
    {
      "cell_type": "code",
      "execution_count": null,
      "metadata": {
        "id": "lsuxinlBPmji",
        "colab": {
          "base_uri": "https://localhost:8080/"
        },
        "outputId": "8fa66095-e86c-451e-90c4-f1946c130bda"
      },
      "outputs": [
        {
          "output_type": "stream",
          "name": "stdout",
          "text": [
            "Given Tree Inorder Traversal:  3 9 -5 4 2 7 \n",
            "Level Wise Smallest Value:  {0: 4, 1: 2, 2: -5}\n"
          ]
        }
      ],
      "source": [
        "def smallest_level(root,lvl = 0,book= {}):\n",
        "  if root== None:\n",
        "    return book\n",
        "  else:\n",
        "    if lvl not in book.keys():\n",
        "        book[lvl]=root.elem\n",
        "\n",
        "    elif lvl in book.keys():\n",
        "        if root.elem < book[lvl]:\n",
        "            book[lvl] = root.elem\n",
        "\n",
        "    smallest_level(root.left, lvl+1, book)\n",
        "    smallest_level(root.right, lvl+1, book)\n",
        "    return book\n",
        "\n",
        "\n",
        "\n",
        "\n",
        "\n",
        "#DRIVER CODE\n",
        "root = tree_construction([None, 4,9,2,3,-5,None,7])\n",
        "print('Given Tree Inorder Traversal: ', end = ' ')\n",
        "inorder(root) #Given Tree Inorder Traversal:  3 9 -5 4 2 7\n",
        "print()\n",
        "print('Level Wise Smallest Value: ', end = ' ')\n",
        "print(smallest_level(root)) #Level Wise Smallest Value:  {0: 4, 1: 2, 2: -5}"
      ]
    },
    {
      "cell_type": "markdown",
      "metadata": {
        "id": "7r3lH3aWPz2d"
      },
      "source": [
        "Task 3"
      ]
    },
    {
      "cell_type": "code",
      "execution_count": null,
      "metadata": {
        "id": "zFwP64v4Pu6d",
        "colab": {
          "base_uri": "https://localhost:8080/"
        },
        "outputId": "14ab989c-1878-46b7-cf2c-2effafcb1cf2"
      },
      "outputs": [
        {
          "output_type": "stream",
          "name": "stdout",
          "text": [
            "##### 14\n",
            "Given Tree Inorder Traversal:  4 8 10 12 14 20 22 \n",
            "Inorder predecessor of node 20: 14\n",
            "Inorder predecessor of node 4: None\n"
          ]
        }
      ],
      "source": [
        "def left_max(root):\n",
        "    if root.right == None:\n",
        "        return root\n",
        "    else:\n",
        "\n",
        "        return left_max(root.right)\n",
        "\n",
        "print(\"#####\",left_max(root.left).elem)\n",
        "\n",
        "def inorder_predecessor(root, x):\n",
        "  if x.left==None:\n",
        "    return BTNode(None)\n",
        "  elif x.left.right== None:\n",
        "\n",
        "    return x.left\n",
        "\n",
        "  else:\n",
        "    return left_max(x.left)\n",
        "'''\n",
        "  return maximum(x.left)\n",
        "'''\n",
        "#DRIVER CODE\n",
        "root = BTNode(20)\n",
        "n1 = BTNode(8)\n",
        "n2 = BTNode(22)\n",
        "n3 = BTNode(4)\n",
        "n4 = BTNode(12)\n",
        "n5 = BTNode(10)\n",
        "n6 = BTNode(14)\n",
        "\n",
        "root.left = n1\n",
        "root.right = n2\n",
        "\n",
        "n1.left = n3\n",
        "n1.right = n4\n",
        "\n",
        "n4.left = n5\n",
        "n4.right = n6\n",
        "\n",
        "print('Given Tree Inorder Traversal: ', end = ' ')\n",
        "inorder(root) #Given Tree Inorder Traversal:  4 8 10 12 14 20 22\n",
        "print()\n",
        "\n",
        "x = root\n",
        "print(f'Inorder predecessor of node {x.elem}: {inorder_predecessor(root, x).elem}') #Inorder predecessor of node 20: 14\n",
        "\n",
        "#personal driver code\n",
        "x = root.left.left\n",
        "print(f'Inorder predecessor of node {x.elem}: {inorder_predecessor(root, x).elem}')"
      ]
    },
    {
      "cell_type": "markdown",
      "metadata": {
        "id": "t3IGW4OaP8Vy"
      },
      "source": [
        "Task 4"
      ]
    },
    {
      "cell_type": "code",
      "execution_count": null,
      "metadata": {
        "id": "d1A-tR7hP2fI",
        "colab": {
          "base_uri": "https://localhost:8080/"
        },
        "outputId": "43762b41-bc2f-41e5-a8a9-9968a2a4cd34"
      },
      "outputs": [
        {
          "output_type": "stream",
          "name": "stdout",
          "text": [
            "Given Tree Inorder Traversal:  6 8 9 10 12 15 18 20 22 25 30 \n",
            "LCA(root,6,12) = 10\n",
            "15\n",
            "20\n",
            "25\n",
            "10\n"
          ]
        }
      ],
      "source": [
        "def LCA(root, x, y):\n",
        "  if x <root.elem and y <root.elem:\n",
        "\n",
        "    return LCA( root.left, x , y)\n",
        "\n",
        "  elif x >root.elem and y >root.elem:\n",
        "\n",
        "    return  LCA( root.right, x , y )\n",
        "  elif (x >root.elem and y <root.elem) or (x <root.elem and y >root.elem):\n",
        "    return root\n",
        "  elif x == root.elem or y == root.elem:\n",
        "    return root\n",
        "\n",
        "\n",
        "#DRIVER CODE\n",
        "#Write by yourself from the given tree\n",
        "#DRIVER CODE\n",
        "root = BTNode(15)\n",
        "\n",
        "n10 = BTNode(10)\n",
        "n8 = BTNode(8)\n",
        "n12 = BTNode(12)\n",
        "n6 = BTNode(6)\n",
        "n9 = BTNode(9)\n",
        "\n",
        "n25 = BTNode(25)\n",
        "n20 = BTNode(20)\n",
        "n30 = BTNode(30)\n",
        "n18 = BTNode(18)\n",
        "n22 = BTNode(22)\n",
        "\n",
        "root.left = n10\n",
        "root.right = n25\n",
        "\n",
        "n10.left = n8\n",
        "n10.right = n12\n",
        "\n",
        "n25.left = n20\n",
        "n25.right = n30\n",
        "\n",
        "n8.left = n6\n",
        "n8.right = n9\n",
        "\n",
        "n20.left = n18\n",
        "n20.right = n22\n",
        "\n",
        "\n",
        "print('Given Tree Inorder Traversal: ', end = ' ')\n",
        "inorder(root) #Given Tree Inorder Traversal:  4 8 10 12 14 20 22\n",
        "print()\n",
        "#check all the sample inputs given\n",
        "print(f\"LCA(root,6,12) = {LCA(root,6,12).elem}\")\n",
        "print(LCA(root,20,6).elem)\n",
        "print(LCA(root,18,22).elem)\n",
        "print(LCA(root,20,25) .elem)\n",
        "print(LCA(root,10,12) .elem)"
      ]
    },
    {
      "cell_type": "markdown",
      "source": [
        "BONUS TASK 1"
      ],
      "metadata": {
        "id": "T3Pimbw_PLHY"
      }
    },
    {
      "cell_type": "code",
      "execution_count": null,
      "metadata": {
        "id": "m4E9_E8PThk6",
        "colab": {
          "base_uri": "https://localhost:8080/",
          "height": 373
        },
        "outputId": "0cd1f132-7374-4f50-89cf-0c3b039ddaad"
      },
      "outputs": [
        {
          "output_type": "stream",
          "name": "stdout",
          "text": [
            "Given Tree Inorder Traversal:  4 10 6 26 3 3 \n"
          ]
        },
        {
          "output_type": "error",
          "ename": "AttributeError",
          "evalue": "ignored",
          "traceback": [
            "\u001b[0;31m---------------------------------------------------------------------------\u001b[0m",
            "\u001b[0;31mAttributeError\u001b[0m                            Traceback (most recent call last)",
            "\u001b[0;32m<ipython-input-38-357226521e16>\u001b[0m in \u001b[0;36m<cell line: 42>\u001b[0;34m()\u001b[0m\n\u001b[1;32m     40\u001b[0m \u001b[0mprint\u001b[0m\u001b[0;34m(\u001b[0m\u001b[0;34m)\u001b[0m\u001b[0;34m\u001b[0m\u001b[0;34m\u001b[0m\u001b[0m\n\u001b[1;32m     41\u001b[0m \u001b[0;34m\u001b[0m\u001b[0m\n\u001b[0;32m---> 42\u001b[0;31m \u001b[0mprint\u001b[0m\u001b[0;34m(\u001b[0m\u001b[0msum_check\u001b[0m\u001b[0;34m(\u001b[0m\u001b[0mroot\u001b[0m\u001b[0;34m)\u001b[0m\u001b[0;34m)\u001b[0m\u001b[0;34m\u001b[0m\u001b[0;34m\u001b[0m\u001b[0m\n\u001b[0m",
            "\u001b[0;32m<ipython-input-38-357226521e16>\u001b[0m in \u001b[0;36msum_check\u001b[0;34m(root)\u001b[0m\n\u001b[1;32m      5\u001b[0m   \u001b[0;32melse\u001b[0m\u001b[0;34m:\u001b[0m\u001b[0;34m\u001b[0m\u001b[0;34m\u001b[0m\u001b[0m\n\u001b[1;32m      6\u001b[0m \u001b[0;34m\u001b[0m\u001b[0m\n\u001b[0;32m----> 7\u001b[0;31m     \u001b[0msum_check\u001b[0m\u001b[0;34m(\u001b[0m\u001b[0mroot\u001b[0m\u001b[0;34m.\u001b[0m\u001b[0mleft\u001b[0m\u001b[0;34m)\u001b[0m\u001b[0;34m\u001b[0m\u001b[0;34m\u001b[0m\u001b[0m\n\u001b[0m\u001b[1;32m      8\u001b[0m     \u001b[0msum_check\u001b[0m\u001b[0;34m(\u001b[0m\u001b[0mroot\u001b[0m\u001b[0;34m.\u001b[0m\u001b[0mright\u001b[0m\u001b[0;34m)\u001b[0m\u001b[0;34m\u001b[0m\u001b[0;34m\u001b[0m\u001b[0m\n\u001b[1;32m      9\u001b[0m     \u001b[0msum\u001b[0m\u001b[0;34m=\u001b[0m\u001b[0mroot\u001b[0m\u001b[0;34m.\u001b[0m\u001b[0mleft\u001b[0m\u001b[0;34m.\u001b[0m\u001b[0melem\u001b[0m \u001b[0;34m+\u001b[0m \u001b[0mroot\u001b[0m\u001b[0;34m.\u001b[0m\u001b[0mright\u001b[0m\u001b[0;34m.\u001b[0m\u001b[0melem\u001b[0m\u001b[0;34m\u001b[0m\u001b[0;34m\u001b[0m\u001b[0m\n",
            "\u001b[0;32m<ipython-input-38-357226521e16>\u001b[0m in \u001b[0;36msum_check\u001b[0;34m(root)\u001b[0m\n\u001b[1;32m      5\u001b[0m   \u001b[0;32melse\u001b[0m\u001b[0;34m:\u001b[0m\u001b[0;34m\u001b[0m\u001b[0;34m\u001b[0m\u001b[0m\n\u001b[1;32m      6\u001b[0m \u001b[0;34m\u001b[0m\u001b[0m\n\u001b[0;32m----> 7\u001b[0;31m     \u001b[0msum_check\u001b[0m\u001b[0;34m(\u001b[0m\u001b[0mroot\u001b[0m\u001b[0;34m.\u001b[0m\u001b[0mleft\u001b[0m\u001b[0;34m)\u001b[0m\u001b[0;34m\u001b[0m\u001b[0;34m\u001b[0m\u001b[0m\n\u001b[0m\u001b[1;32m      8\u001b[0m     \u001b[0msum_check\u001b[0m\u001b[0;34m(\u001b[0m\u001b[0mroot\u001b[0m\u001b[0;34m.\u001b[0m\u001b[0mright\u001b[0m\u001b[0;34m)\u001b[0m\u001b[0;34m\u001b[0m\u001b[0;34m\u001b[0m\u001b[0m\n\u001b[1;32m      9\u001b[0m     \u001b[0msum\u001b[0m\u001b[0;34m=\u001b[0m\u001b[0mroot\u001b[0m\u001b[0;34m.\u001b[0m\u001b[0mleft\u001b[0m\u001b[0;34m.\u001b[0m\u001b[0melem\u001b[0m \u001b[0;34m+\u001b[0m \u001b[0mroot\u001b[0m\u001b[0;34m.\u001b[0m\u001b[0mright\u001b[0m\u001b[0;34m.\u001b[0m\u001b[0melem\u001b[0m\u001b[0;34m\u001b[0m\u001b[0;34m\u001b[0m\u001b[0m\n",
            "\u001b[0;32m<ipython-input-38-357226521e16>\u001b[0m in \u001b[0;36msum_check\u001b[0;34m(root)\u001b[0m\n\u001b[1;32m      7\u001b[0m     \u001b[0msum_check\u001b[0m\u001b[0;34m(\u001b[0m\u001b[0mroot\u001b[0m\u001b[0;34m.\u001b[0m\u001b[0mleft\u001b[0m\u001b[0;34m)\u001b[0m\u001b[0;34m\u001b[0m\u001b[0;34m\u001b[0m\u001b[0m\n\u001b[1;32m      8\u001b[0m     \u001b[0msum_check\u001b[0m\u001b[0;34m(\u001b[0m\u001b[0mroot\u001b[0m\u001b[0;34m.\u001b[0m\u001b[0mright\u001b[0m\u001b[0;34m)\u001b[0m\u001b[0;34m\u001b[0m\u001b[0;34m\u001b[0m\u001b[0m\n\u001b[0;32m----> 9\u001b[0;31m     \u001b[0msum\u001b[0m\u001b[0;34m=\u001b[0m\u001b[0mroot\u001b[0m\u001b[0;34m.\u001b[0m\u001b[0mleft\u001b[0m\u001b[0;34m.\u001b[0m\u001b[0melem\u001b[0m \u001b[0;34m+\u001b[0m \u001b[0mroot\u001b[0m\u001b[0;34m.\u001b[0m\u001b[0mright\u001b[0m\u001b[0;34m.\u001b[0m\u001b[0melem\u001b[0m\u001b[0;34m\u001b[0m\u001b[0;34m\u001b[0m\u001b[0m\n\u001b[0m\u001b[1;32m     10\u001b[0m     \u001b[0;32mreturn\u001b[0m  \u001b[0msum\u001b[0m\u001b[0;34m\u001b[0m\u001b[0;34m\u001b[0m\u001b[0m\n\u001b[1;32m     11\u001b[0m \u001b[0;34m\u001b[0m\u001b[0m\n",
            "\u001b[0;31mAttributeError\u001b[0m: 'NoneType' object has no attribute 'elem'"
          ]
        }
      ],
      "source": [
        "def sum_check(root):\n",
        "  if root == None:\n",
        "    return 0\n",
        "\n",
        "  else:\n",
        "\n",
        "    sum_check(root.left)\n",
        "    sum_check(root.right)\n",
        "    if root.left!=None and root.right!= None:\n",
        "        sum=root.left.elem + root.right.elem\n",
        "    else:\n",
        "        sum=\n",
        "\n",
        "\n",
        "    if sum==0:\n",
        "        pass\n",
        "    elif sum==root.elem:\n",
        "        return True\n",
        "    else:\n",
        "        return False\n",
        "\n",
        "\n",
        "\n",
        "#WRITE THE FUNCTION and DRIVER CODE BY YOURSELF\n",
        "root = BTNode(26)\n",
        "\n",
        "n10 = BTNode(10)\n",
        "n4 = BTNode(4)\n",
        "n3 = BTNode(3)\n",
        "n6 = BTNode(6)\n",
        "n33 = BTNode(3)\n",
        "\n",
        "root.left = n10\n",
        "root.right = n3\n",
        "\n",
        "n10.left = n4\n",
        "n10.right = n6\n",
        "\n",
        "\n",
        "n3.right = n33\n",
        "print('Given Tree Inorder Traversal: ', end = ' ')\n",
        "inorder(root) #Given Tree Inorder Traversal:  4 8 10 12 14 20 22\n",
        "print()\n",
        "\n",
        "print(sum_check(root))\n"
      ]
    },
    {
      "cell_type": "code",
      "source": [
        "def sub_tree_sum(root):\n",
        "    if root is None:\n",
        "        return 0\n",
        "    else:\n",
        "        a=sub_tree_sum(root.left)\n",
        "        b=sub_tree_sum(root.right)\n",
        "        return root.elem + a+b\n",
        "def check(root):\n",
        "    if root is None:\n",
        "        return True\n",
        "    else:\n",
        "        inLeft = check(root.left)\n",
        "        inRight= check(root.right)\n",
        "        return root.elem != (sub_tree_sum(root.left)+sub_tree_sum(root.right)) or( inLeft and inRight)\n",
        "#WRITE THE FUNCTION and DRIVER CODE BY YOURSELF\n",
        "root = BTNode(26)\n",
        "\n",
        "n10 = BTNode(10)\n",
        "n4 = BTNode(4)\n",
        "n3 = BTNode(3)\n",
        "n6 = BTNode(6)\n",
        "n33 = BTNode(3)\n",
        "\n",
        "root.left = n10\n",
        "root.right = n3\n",
        "\n",
        "n10.left = n4\n",
        "n10.right = n6\n",
        "\n",
        "\n",
        "n3.right = n33\n",
        "print('Given Tree Inorder Traversal: ', end = ' ')\n",
        "inorder(root)\n",
        "print()\n",
        "\n",
        "print(check(root))"
      ],
      "metadata": {
        "colab": {
          "base_uri": "https://localhost:8080/"
        },
        "id": "LSsImsREKH0-",
        "outputId": "9c94819d-ad71-46c5-9c2e-57c29d637ac8"
      },
      "execution_count": null,
      "outputs": [
        {
          "output_type": "stream",
          "name": "stdout",
          "text": [
            "Given Tree Inorder Traversal:  4 10 6 26 3 \n",
            "True\n"
          ]
        }
      ]
    },
    {
      "cell_type": "code",
      "source": [
        "def sumc(root):\n",
        "\n",
        "  if root == None:\n",
        "    return None\n",
        "  else:\n",
        "    sumc(root.left)\n",
        "    sumc(root.right)\n",
        "    if root.left==None and root.right==None:\n",
        "        sum=root.elem\n",
        "    elif root.left==None:\n",
        "        sum=root.right.elem\n",
        "    elif root.right ==None:\n",
        "        sum=root.left.elem\n",
        "    else:\n",
        "        sum=root.left.elem+ root.right.elem\n",
        "    if sum!=root.elem:\n",
        "        return False\n",
        "\n",
        "    else:\n",
        "        return sum\n",
        "\n",
        "\n",
        "\n",
        "\n",
        "\n",
        "  return True\n",
        "\n",
        "#WRITE THE FUNCTION and DRIVER CODE BY YOURSELF\n",
        "root = BTNode(26)\n",
        "\n",
        "n10 = BTNode(10)\n",
        "n4 = BTNode(4)\n",
        "n3 = BTNode(3)\n",
        "n6 = BTNode(6)\n",
        "n33 = BTNode(3)\n",
        "\n",
        "root.left = n10\n",
        "root.right = n3\n",
        "\n",
        "n10.left = n4\n",
        "n10.right = n6\n",
        "\n",
        "\n",
        "n3.right = n33\n",
        "print('Given Tree Inorder Traversal: ', end = ' ')\n",
        "inorder(root)\n",
        "print()\n",
        "\n",
        "print(sumc(root))\n"
      ],
      "metadata": {
        "colab": {
          "base_uri": "https://localhost:8080/"
        },
        "id": "qjzuFydATxgB",
        "outputId": "aa617ddb-50b8-4b2e-ad10-cea0f9e06b60"
      },
      "execution_count": null,
      "outputs": [
        {
          "output_type": "stream",
          "name": "stdout",
          "text": [
            "Given Tree Inorder Traversal:  4 10 6 26 3 3 \n",
            "False\n"
          ]
        }
      ]
    },
    {
      "cell_type": "code",
      "source": [
        "def sumc(root,sum):\n",
        "\n",
        "  if root == None:\n",
        "    return 0\n",
        "  else:\n",
        "    sumc(root.left,sum)\n",
        "    sumc(root.right)\n",
        "    if root.left==None and root.right==None:\n",
        "        sum+=root.elem\n",
        "    elif root.left==None:\n",
        "        sum=root.right.elem\n",
        "    elif root.right ==None:\n",
        "        sum=root.left.elem\n",
        "    else:\n",
        "        sum=root.left.elem+ root.right.elem\n",
        "    if sum!=root.elem:\n",
        "        return False\n",
        "\n",
        "    else:\n",
        "        return sum\n",
        "\n",
        "\n",
        "\n",
        "\n",
        "\n",
        "  return True\n",
        "\n",
        "#WRITE THE FUNCTION and DRIVER CODE BY YOURSELF\n",
        "root = BTNode(26)\n",
        "\n",
        "n10 = BTNode(10)\n",
        "n4 = BTNode(4)\n",
        "n3 = BTNode(3)\n",
        "n6 = BTNode(6)\n",
        "n33 = BTNode(3)\n",
        "\n",
        "root.left = n10\n",
        "root.right = n3\n",
        "\n",
        "n10.left = n4\n",
        "n10.right = n6\n",
        "\n",
        "\n",
        "n3.right = n33\n",
        "print('Given Tree Inorder Traversal: ', end = ' ')\n",
        "inorder(root)\n",
        "print()\n",
        "\n",
        "print(sumc(root))\n"
      ],
      "metadata": {
        "id": "-AmQlcguWi8o"
      },
      "execution_count": null,
      "outputs": []
    },
    {
      "cell_type": "markdown",
      "metadata": {
        "id": "SBD-0xoZP_ni"
      },
      "source": [
        "Bonus Task 2"
      ]
    },
    {
      "cell_type": "code",
      "source": [
        " def pm(root, lvl=0):\n",
        "    if root is None:\n",
        "        return 0\n",
        "    elif lvl%2==0:\n",
        "        return pm(root.left,lvl+1) +pm(root.right, lvl+1)-root.elem\n",
        "    else:\n",
        "        return pm(root.left,lvl+1) +pm(root.right, lvl+1)+root.elem\n",
        "\n",
        "\n",
        "\n",
        "#DRIVER CODE\n",
        "root = BTNode(1)\n",
        "n2 = BTNode(2)\n",
        "n3 = BTNode(3)\n",
        "n4 = BTNode(4)\n",
        "n5 = BTNode(5)\n",
        "n6 = BTNode(6)\n",
        "n7 = BTNode(7)\n",
        "n8 = BTNode(8)\n",
        "root.left = n2\n",
        "root.right = n3\n",
        "\n",
        "n2.left = n4\n",
        "n3.left = n5\n",
        "n3.right = n6\n",
        "\n",
        "n5.left = n7\n",
        "n5.right = n8\n",
        "print(pm(root))"
      ],
      "metadata": {
        "colab": {
          "base_uri": "https://localhost:8080/"
        },
        "id": "HrLIz6B8Nfnx",
        "outputId": "54669edb-8b12-4d72-953a-0097522c94f8"
      },
      "execution_count": null,
      "outputs": [
        {
          "output_type": "stream",
          "name": "stdout",
          "text": [
            "4\n"
          ]
        }
      ]
    },
    {
      "cell_type": "code",
      "source": [
        " def pm(root, lvl=1, total=0):\n",
        "    if root is None:\n",
        "        return total\n",
        "\n",
        "    elif lvl % 2 == 0:\n",
        "        total += root.elem\n",
        "    else:\n",
        "        total -= root.elem\n",
        "\n",
        "    total = pm(root.left, lvl + 1, total)\n",
        "    total = pm(root.right, lvl + 1, total)\n",
        "\n",
        "    return total\n",
        "\n",
        "#DRIVER CODE\n",
        "root = BTNode(1)\n",
        "n2 = BTNode(2)\n",
        "n3 = BTNode(3)\n",
        "n4 = BTNode(4)\n",
        "n5 = BTNode(5)\n",
        "n6 = BTNode(6)\n",
        "n7 = BTNode(7)\n",
        "n8 = BTNode(8)\n",
        "root.left = n2\n",
        "root.right = n3\n",
        "\n",
        "n2.left = n4\n",
        "n3.left = n5\n",
        "n3.right = n6\n",
        "\n",
        "n5.left = n7\n",
        "n5.right = n8\n",
        "print(pm(root))"
      ],
      "metadata": {
        "colab": {
          "base_uri": "https://localhost:8080/"
        },
        "id": "BebqXHIFoDS8",
        "outputId": "462f5329-4fdd-45e8-93d9-3ef68561219a"
      },
      "execution_count": null,
      "outputs": [
        {
          "output_type": "stream",
          "name": "stdout",
          "text": [
            "4\n"
          ]
        }
      ]
    },
    {
      "cell_type": "code",
      "source": [
        "class Node:\n",
        "    def __init__(self, elem):\n",
        "        self.elem = elem\n",
        "        self.left = None\n",
        "        self.right = None\n",
        "\n",
        "def isSumTree(root):\n",
        "    # Base case: an empty tree is a SumTree\n",
        "    if root is None:\n",
        "        return True\n",
        "\n",
        "    # Base case: a leaf node is a SumTree\n",
        "    if root.left is None and root.right is None:\n",
        "        return True\n",
        "\n",
        "    # Recursively check if the left and right subtrees are SumTrees\n",
        "    left_sum = 0 if root.left is None else root.left.elem if isLeaf(root.left) else 2 * root.left.elem\n",
        "    right_sum = 0 if root.right is None else root.right.elem if isLeaf(root.right) else 2 * root.right.elem\n",
        "\n",
        "    return ( isSumTree(root.left) and isSumTree(root.right) and root.elem == left_sum + right_sum)\n",
        "\n",
        "def isLeaf(node):\n",
        "    return node.left is None and node.right is None\n",
        "\n",
        "# Example tree\n",
        "root = Node(26)\n",
        "root.left = Node(10)\n",
        "root.right = Node(3)\n",
        "root.left.left = Node(4)\n",
        "root.left.right = Node(6)\n",
        "root.right.right = Node(3)\n",
        "\n",
        "# Check if the tree is a SumTree\n",
        "result = isSumTree(root)\n",
        "\n",
        "if result:\n",
        "    print(\"The given tree is a SumTree.\")\n",
        "else:\n",
        "    print(\"The given tree is not a SumTree.\")"
      ],
      "metadata": {
        "colab": {
          "base_uri": "https://localhost:8080/"
        },
        "id": "W796BKzeYT_C",
        "outputId": "e36824ce-5342-4a30-bd8f-813417dcd7c3"
      },
      "execution_count": null,
      "outputs": [
        {
          "output_type": "stream",
          "name": "stdout",
          "text": [
            "The given tree is a SumTree.\n"
          ]
        }
      ]
    },
    {
      "cell_type": "code",
      "source": [
        "def isSumTree(root):\n",
        "    # Base case: an empty tree is a SumTree\n",
        "    if root is None:\n",
        "        return True\n",
        "\n",
        "    # Base case: a leaf node is a SumTree\n",
        "    if root.left is None and root.right is None:\n",
        "        return True\n",
        "\n",
        "    # Recursively check if the left and right subtrees are SumTrees\n",
        "    left_sum = 0 if root.left is None else root.left.elem if isLeaf(root.left) else 2 * root.left.elem\n",
        "    right_sum = 0 if root.right is None else root.right.elem if isLeaf(root.right) else 2 * root.right.elem\n",
        "\n",
        "    return ( isSumTree(root.left) and isSumTree(root.right) and root.elem == left_sum + right_sum)\n",
        "\n",
        "def isLeaf(node):\n",
        "    return node.left is None and node.right is None\n",
        "#WRITE THE FUNCTION and DRIVER CODE BY YOURSELF\n",
        "root = BTNode(26)\n",
        "\n",
        "n10 = BTNode(10)\n",
        "n4 = BTNode(4)\n",
        "n3 = BTNode(3)\n",
        "n6 = BTNode(6)\n",
        "n33 = BTNode(3)\n",
        "\n",
        "root.left = n10\n",
        "root.right = n3\n",
        "\n",
        " n10.left = n4\n",
        "n10.right = n6\n",
        "\n",
        "\n",
        "n3.right = n33\n",
        "print('Given Tree Inorder Traversal: ', end = ' ')\n",
        "inorder(root)\n",
        "\n",
        "\n",
        "print()\n",
        "print(isSumTree(root))\n"
      ],
      "metadata": {
        "colab": {
          "base_uri": "https://localhost:8080/"
        },
        "id": "Xm_8t-3uYzum",
        "outputId": "e4df4584-1ad1-4261-c5aa-cad38fbedb6f"
      },
      "execution_count": null,
      "outputs": [
        {
          "output_type": "stream",
          "name": "stdout",
          "text": [
            "Given Tree Inorder Traversal:  10 6 26 3 3 \n",
            "False\n"
          ]
        }
      ]
    }
  ],
  "metadata": {
    "colab": {
      "provenance": []
    },
    "kernelspec": {
      "display_name": "Python 3",
      "name": "python3"
    },
    "language_info": {
      "name": "python"
    }
  },
  "nbformat": 4,
  "nbformat_minor": 0
}